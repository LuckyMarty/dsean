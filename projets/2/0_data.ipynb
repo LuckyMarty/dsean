{
 "cells": [
  {
   "cell_type": "code",
   "execution_count": 279,
   "id": "2ea6ffed",
   "metadata": {},
   "outputs": [
    {
     "name": "stdout",
     "output_type": "stream",
     "text": [
      "['ensae_competition_test_X.txt', 'ensae_competition_train.txt']\n",
      "sys.version_info(major=3, minor=9, micro=7, releaselevel='final', serial=0)\n",
      "1.4.1\n",
      "1.0.2\n"
     ]
    }
   ],
   "source": [
    "import os; print(os.listdir(\"ensae_competition_2016\"))\n",
    "import sys; print(sys.version_info)\n",
    "import pandas as pd ; print(pd.__version__)\n",
    "import sklearn; print(sklearn.__version__)\n"
   ]
  },
  {
   "cell_type": "code",
   "execution_count": 280,
   "id": "c48c8673",
   "metadata": {},
   "outputs": [],
   "source": [
    "df_test = pd.read_csv(\"ensae_competition_2016/ensae_competition_test_X.txt\", header=[0, 1], encoding=\"utf8\", index_col=0, sep=\"\\t\")\n",
    "# df_test.loc[12]"
   ]
  },
  {
   "cell_type": "markdown",
   "id": "fab14091",
   "metadata": {},
   "source": [
    "# Reading Train DataFrame"
   ]
  },
  {
   "cell_type": "code",
   "execution_count": 281,
   "id": "adf9dca4",
   "metadata": {},
   "outputs": [
    {
     "name": "stdout",
     "output_type": "stream",
     "text": [
      "(22500, 24)\n"
     ]
    },
    {
     "data": {
      "text/html": [
       "<div>\n",
       "<style scoped>\n",
       "    .dataframe tbody tr th:only-of-type {\n",
       "        vertical-align: middle;\n",
       "    }\n",
       "\n",
       "    .dataframe tbody tr th {\n",
       "        vertical-align: top;\n",
       "    }\n",
       "\n",
       "    .dataframe thead tr th {\n",
       "        text-align: left;\n",
       "    }\n",
       "</style>\n",
       "<table border=\"1\" class=\"dataframe\">\n",
       "  <thead>\n",
       "    <tr>\n",
       "      <th></th>\n",
       "      <th>X1</th>\n",
       "      <th>X2</th>\n",
       "      <th>X3</th>\n",
       "      <th>X4</th>\n",
       "      <th>X5</th>\n",
       "      <th>X6</th>\n",
       "      <th>X7</th>\n",
       "      <th>X8</th>\n",
       "      <th>X9</th>\n",
       "      <th>X10</th>\n",
       "      <th>...</th>\n",
       "      <th>X15</th>\n",
       "      <th>X16</th>\n",
       "      <th>X17</th>\n",
       "      <th>X18</th>\n",
       "      <th>X19</th>\n",
       "      <th>X20</th>\n",
       "      <th>X21</th>\n",
       "      <th>X22</th>\n",
       "      <th>X23</th>\n",
       "      <th>Y</th>\n",
       "    </tr>\n",
       "    <tr>\n",
       "      <th>ID</th>\n",
       "      <th>LIMIT_BAL</th>\n",
       "      <th>SEX</th>\n",
       "      <th>EDUCATION</th>\n",
       "      <th>MARRIAGE</th>\n",
       "      <th>AGE</th>\n",
       "      <th>PAY_0</th>\n",
       "      <th>PAY_2</th>\n",
       "      <th>PAY_3</th>\n",
       "      <th>PAY_4</th>\n",
       "      <th>PAY_5</th>\n",
       "      <th>...</th>\n",
       "      <th>BILL_AMT4</th>\n",
       "      <th>BILL_AMT5</th>\n",
       "      <th>BILL_AMT6</th>\n",
       "      <th>PAY_AMT1</th>\n",
       "      <th>PAY_AMT2</th>\n",
       "      <th>PAY_AMT3</th>\n",
       "      <th>PAY_AMT4</th>\n",
       "      <th>PAY_AMT5</th>\n",
       "      <th>PAY_AMT6</th>\n",
       "      <th>default payment next month</th>\n",
       "    </tr>\n",
       "  </thead>\n",
       "  <tbody>\n",
       "    <tr>\n",
       "      <th>0</th>\n",
       "      <td>180000</td>\n",
       "      <td>1</td>\n",
       "      <td>2</td>\n",
       "      <td>1</td>\n",
       "      <td>47</td>\n",
       "      <td>0</td>\n",
       "      <td>0</td>\n",
       "      <td>0</td>\n",
       "      <td>0</td>\n",
       "      <td>0</td>\n",
       "      <td>...</td>\n",
       "      <td>99694</td>\n",
       "      <td>65977</td>\n",
       "      <td>67415</td>\n",
       "      <td>3700</td>\n",
       "      <td>3700</td>\n",
       "      <td>4100</td>\n",
       "      <td>2360</td>\n",
       "      <td>2500</td>\n",
       "      <td>2618</td>\n",
       "      <td>0</td>\n",
       "    </tr>\n",
       "    <tr>\n",
       "      <th>1</th>\n",
       "      <td>110000</td>\n",
       "      <td>2</td>\n",
       "      <td>2</td>\n",
       "      <td>1</td>\n",
       "      <td>35</td>\n",
       "      <td>0</td>\n",
       "      <td>0</td>\n",
       "      <td>0</td>\n",
       "      <td>0</td>\n",
       "      <td>0</td>\n",
       "      <td>...</td>\n",
       "      <td>4869</td>\n",
       "      <td>4966</td>\n",
       "      <td>5070</td>\n",
       "      <td>1053</td>\n",
       "      <td>1073</td>\n",
       "      <td>1081</td>\n",
       "      <td>178</td>\n",
       "      <td>184</td>\n",
       "      <td>185</td>\n",
       "      <td>1</td>\n",
       "    </tr>\n",
       "    <tr>\n",
       "      <th>2</th>\n",
       "      <td>70000</td>\n",
       "      <td>2</td>\n",
       "      <td>2</td>\n",
       "      <td>2</td>\n",
       "      <td>22</td>\n",
       "      <td>0</td>\n",
       "      <td>0</td>\n",
       "      <td>0</td>\n",
       "      <td>0</td>\n",
       "      <td>0</td>\n",
       "      <td>...</td>\n",
       "      <td>69927</td>\n",
       "      <td>50579</td>\n",
       "      <td>49483</td>\n",
       "      <td>2501</td>\n",
       "      <td>3001</td>\n",
       "      <td>2608</td>\n",
       "      <td>1777</td>\n",
       "      <td>1792</td>\n",
       "      <td>1793</td>\n",
       "      <td>1</td>\n",
       "    </tr>\n",
       "  </tbody>\n",
       "</table>\n",
       "<p>3 rows × 24 columns</p>\n",
       "</div>"
      ],
      "text/plain": [
       "          X1  X2        X3       X4  X5    X6    X7    X8    X9   X10  ...  \\\n",
       "ID LIMIT_BAL SEX EDUCATION MARRIAGE AGE PAY_0 PAY_2 PAY_3 PAY_4 PAY_5  ...   \n",
       "0     180000   1         2        1  47     0     0     0     0     0  ...   \n",
       "1     110000   2         2        1  35     0     0     0     0     0  ...   \n",
       "2      70000   2         2        2  22     0     0     0     0     0  ...   \n",
       "\n",
       "         X15       X16       X17      X18      X19      X20      X21      X22  \\\n",
       "ID BILL_AMT4 BILL_AMT5 BILL_AMT6 PAY_AMT1 PAY_AMT2 PAY_AMT3 PAY_AMT4 PAY_AMT5   \n",
       "0      99694     65977     67415     3700     3700     4100     2360     2500   \n",
       "1       4869      4966      5070     1053     1073     1081      178      184   \n",
       "2      69927     50579     49483     2501     3001     2608     1777     1792   \n",
       "\n",
       "        X23                          Y  \n",
       "ID PAY_AMT6 default payment next month  \n",
       "0      2618                          0  \n",
       "1       185                          1  \n",
       "2      1793                          1  \n",
       "\n",
       "[3 rows x 24 columns]"
      ]
     },
     "execution_count": 281,
     "metadata": {},
     "output_type": "execute_result"
    }
   ],
   "source": [
    "df = pd.read_csv(\"ensae_competition_2016/ensae_competition_train.txt\", header=[0, 1], encoding=\"utf8\", index_col=0, sep=\"\\t\")\n",
    "print(df.shape)\n",
    "df.head(3)"
   ]
  },
  {
   "cell_type": "code",
   "execution_count": 282,
   "id": "8fbd4c89",
   "metadata": {},
   "outputs": [
    {
     "data": {
      "text/plain": [
       "MultiIndex([( 'X1',                  'LIMIT_BAL'),\n",
       "            ( 'X2',                        'SEX'),\n",
       "            ( 'X3',                  'EDUCATION'),\n",
       "            ( 'X4',                   'MARRIAGE'),\n",
       "            ( 'X5',                        'AGE'),\n",
       "            ( 'X6',                      'PAY_0'),\n",
       "            ( 'X7',                      'PAY_2'),\n",
       "            ( 'X8',                      'PAY_3'),\n",
       "            ( 'X9',                      'PAY_4'),\n",
       "            ('X10',                      'PAY_5'),\n",
       "            ('X11',                      'PAY_6'),\n",
       "            ('X12',                  'BILL_AMT1'),\n",
       "            ('X13',                  'BILL_AMT2'),\n",
       "            ('X14',                  'BILL_AMT3'),\n",
       "            ('X15',                  'BILL_AMT4'),\n",
       "            ('X16',                  'BILL_AMT5'),\n",
       "            ('X17',                  'BILL_AMT6'),\n",
       "            ('X18',                   'PAY_AMT1'),\n",
       "            ('X19',                   'PAY_AMT2'),\n",
       "            ('X20',                   'PAY_AMT3'),\n",
       "            ('X21',                   'PAY_AMT4'),\n",
       "            ('X22',                   'PAY_AMT5'),\n",
       "            ('X23',                   'PAY_AMT6'),\n",
       "            (  'Y', 'default payment next month')],\n",
       "           names=[None, 'ID'])"
      ]
     },
     "execution_count": 282,
     "metadata": {},
     "output_type": "execute_result"
    }
   ],
   "source": [
    "df.columns"
   ]
  },
  {
   "cell_type": "markdown",
   "id": "03797d52",
   "metadata": {},
   "source": [
    "# Columns\n",
    "### We get rid of the multindex\n",
    "### And then names to lower case + '_'"
   ]
  },
  {
   "cell_type": "code",
   "execution_count": 283,
   "id": "e7f359fb",
   "metadata": {},
   "outputs": [
    {
     "data": {
      "text/plain": [
       "Index(['LIMIT_BAL', 'SEX', 'EDUCATION', 'MARRIAGE', 'AGE', 'PAY_0', 'PAY_2',\n",
       "       'PAY_3', 'PAY_4', 'PAY_5', 'PAY_6', 'BILL_AMT1', 'BILL_AMT2',\n",
       "       'BILL_AMT3', 'BILL_AMT4', 'BILL_AMT5', 'BILL_AMT6', 'PAY_AMT1',\n",
       "       'PAY_AMT2', 'PAY_AMT3', 'PAY_AMT4', 'PAY_AMT5', 'PAY_AMT6',\n",
       "       'default payment next month'],\n",
       "      dtype='object', name='ID')"
      ]
     },
     "execution_count": 283,
     "metadata": {},
     "output_type": "execute_result"
    }
   ],
   "source": [
    "df.columns = df.columns.droplevel()\n",
    "df.columns"
   ]
  },
  {
   "cell_type": "code",
   "execution_count": 284,
   "id": "f9ff4821",
   "metadata": {},
   "outputs": [],
   "source": [
    "df.columns = df.columns.str.lower().str.replace(\" \", \"_\")\n",
    "# Pareil que \n",
    "# df.columns = df.columns.map(lambda c: c.lower().replace(\" \", \"_\"))"
   ]
  },
  {
   "cell_type": "code",
   "execution_count": 285,
   "id": "3ae88e9a",
   "metadata": {},
   "outputs": [],
   "source": [
    "df = df.rename(columns={\"default_payment_next_month\": \"y\" , \"pay_0\": \"pay_1\"})"
   ]
  },
  {
   "cell_type": "markdown",
   "id": "31b06694",
   "metadata": {},
   "source": [
    "### Columns all contain  `int64`"
   ]
  },
  {
   "cell_type": "code",
   "execution_count": 286,
   "id": "9d95617e",
   "metadata": {},
   "outputs": [
    {
     "name": "stdout",
     "output_type": "stream",
     "text": [
      "<class 'pandas.core.frame.DataFrame'>\n",
      "Int64Index: 22500 entries, 0 to 22499\n",
      "Data columns (total 24 columns):\n",
      " #   Column     Non-Null Count  Dtype\n",
      "---  ------     --------------  -----\n",
      " 0   limit_bal  22500 non-null  int64\n",
      " 1   sex        22500 non-null  int64\n",
      " 2   education  22500 non-null  int64\n",
      " 3   marriage   22500 non-null  int64\n",
      " 4   age        22500 non-null  int64\n",
      " 5   pay_1      22500 non-null  int64\n",
      " 6   pay_2      22500 non-null  int64\n",
      " 7   pay_3      22500 non-null  int64\n",
      " 8   pay_4      22500 non-null  int64\n",
      " 9   pay_5      22500 non-null  int64\n",
      " 10  pay_6      22500 non-null  int64\n",
      " 11  bill_amt1  22500 non-null  int64\n",
      " 12  bill_amt2  22500 non-null  int64\n",
      " 13  bill_amt3  22500 non-null  int64\n",
      " 14  bill_amt4  22500 non-null  int64\n",
      " 15  bill_amt5  22500 non-null  int64\n",
      " 16  bill_amt6  22500 non-null  int64\n",
      " 17  pay_amt1   22500 non-null  int64\n",
      " 18  pay_amt2   22500 non-null  int64\n",
      " 19  pay_amt3   22500 non-null  int64\n",
      " 20  pay_amt4   22500 non-null  int64\n",
      " 21  pay_amt5   22500 non-null  int64\n",
      " 22  pay_amt6   22500 non-null  int64\n",
      " 23  y          22500 non-null  int64\n",
      "dtypes: int64(24)\n",
      "memory usage: 4.3 MB\n"
     ]
    }
   ],
   "source": [
    "df.info()"
   ]
  },
  {
   "cell_type": "markdown",
   "id": "1e6000de",
   "metadata": {},
   "source": [
    "This research employed a binary variable, default payment (Yes = 1, No = 0),\n",
    "as the response variable. This study reviewed the literature and used the following 23 variables as explanatory variables: - X1: Amount of the given credit (NT dollar): it includes both the individual consumer credit and his/her family (supplementary) credit. - X2: Gender (1 = male; 2 = female). - X3: Education (1 = graduate school; 2 = university; 3 = high school; 4 = others). - X4: Marital status (1 = married; 2 = single; 3 = others). - X5: Age (year). - X6 - X11: History of past payment. We tracked the past monthly payment records (from April to September, 2005) as follows: X6 = the repayment status in September, 2005; X7 = the repayment status in August, 2005; …;X11 = the repayment status in April, 2005. The measurement scale for the repayment status is: -1 = pay duly; 1 = payment delay for one month; 2 = payment delay for two months; …; 8 = payment delay for eight months; 9 = payment delay for nine months and above. - X12-X17: Amount of bill statement (NT dollar). X12 = amount of bill statement in September, 2005; X13 = amount of bill statement in August, 2005; …; X17 = amount of bill statement in April, 2005. - X18-X23: Amount of previous payment (NT dollar). X18 = amount paid in September, 2005; X19 = amount paid in August, 2005; …;X23 = amount paid in April, 2005."
   ]
  },
  {
   "cell_type": "code",
   "execution_count": 287,
   "id": "b89202c8",
   "metadata": {},
   "outputs": [
    {
     "data": {
      "text/plain": [
       "2    13577\n",
       "1     8923\n",
       "Name: sex, dtype: int64"
      ]
     },
     "execution_count": 287,
     "metadata": {},
     "output_type": "execute_result"
    }
   ],
   "source": [
    "df.sex.value_counts()"
   ]
  },
  {
   "cell_type": "markdown",
   "id": "71e9914a",
   "metadata": {},
   "source": [
    "# Statistics"
   ]
  },
  {
   "cell_type": "markdown",
   "id": "b71e1647",
   "metadata": {},
   "source": [
    "### Faire défaut  = 1 \n",
    "### Ne pas faire défault = 0 \n",
    "\n",
    "\n",
    "- Men are coded with sex=1 and mean of Default = 24 %\n",
    "- Women are coded with sex=2 and mean of Default = 20 %\n",
    "-> Vérifie ça avec un test statistique d'égalité des moyennes"
   ]
  },
  {
   "cell_type": "code",
   "execution_count": 288,
   "id": "aa61f259",
   "metadata": {},
   "outputs": [
    {
     "data": {
      "text/plain": [
       "sex\n",
       "1    0.242071\n",
       "2    0.207704\n",
       "Name: y, dtype: float64"
      ]
     },
     "execution_count": 288,
     "metadata": {},
     "output_type": "execute_result"
    }
   ],
   "source": [
    "df.groupby(\"sex\").y.mean()"
   ]
  },
  {
   "cell_type": "markdown",
   "id": "f3716c38",
   "metadata": {},
   "source": [
    "\n",
    "- Graduate are coded with 1 and mean of Default = 19 %\n",
    "- Univ are coded with 2 and mean of Default = 23 %\n",
    "- HighSchool are coded with 3 and mean of Default = 25 %"
   ]
  },
  {
   "cell_type": "markdown",
   "id": "33419e26",
   "metadata": {},
   "source": [
    "- When level of education increases, default decrease"
   ]
  },
  {
   "cell_type": "code",
   "execution_count": 289,
   "id": "32399146",
   "metadata": {},
   "outputs": [
    {
     "data": {
      "text/plain": [
       "education\n",
       "0    0.000000\n",
       "1    0.190804\n",
       "2    0.237493\n",
       "3    0.253312\n",
       "4    0.072917\n",
       "5    0.080189\n",
       "6    0.125000\n",
       "Name: y, dtype: float64"
      ]
     },
     "execution_count": 289,
     "metadata": {},
     "output_type": "execute_result"
    }
   ],
   "source": [
    "df.groupby(\"education\").y.mean()"
   ]
  },
  {
   "cell_type": "code",
   "execution_count": 290,
   "id": "7ec254aa",
   "metadata": {},
   "outputs": [],
   "source": [
    "# df[[c for c in df.columns if c.startswith(\"pay\") or c.startswith(\"bill\")]]"
   ]
  },
  {
   "cell_type": "markdown",
   "id": "30c7f99e",
   "metadata": {},
   "source": [
    "- Percentage of `limit_bal` paid back during the last 6 months"
   ]
  },
  {
   "cell_type": "code",
   "execution_count": 291,
   "id": "c968a01a",
   "metadata": {},
   "outputs": [
    {
     "data": {
      "text/plain": [
       "<AxesSubplot:>"
      ]
     },
     "execution_count": 291,
     "metadata": {},
     "output_type": "execute_result"
    },
    {
     "data": {
      "image/png": "[encoded data removed]",
      "text/plain": [
       "<Figure size 432x288 with 1 Axes>"
      ]
     },
     "metadata": {
      "needs_background": "light"
     },
     "output_type": "display_data"
    }
   ],
   "source": [
    "# Le pourcentage total remboursé sur les 6 derniers mois\n",
    "df[\"percentage_6_months\"] = df[[c for c in df.columns if c.startswith(\"pay_amt\")]].sum(axis=1) / df[\"limit_bal\"]\n",
    "df[\"percentage_6_months\"].hist(bins=60)"
   ]
  },
  {
   "cell_type": "code",
   "execution_count": 292,
   "id": "d9540f8c",
   "metadata": {},
   "outputs": [
    {
     "data": {
      "text/plain": [
       "<AxesSubplot:ylabel='percentage_6_months_q10'>"
      ]
     },
     "execution_count": 292,
     "metadata": {},
     "output_type": "execute_result"
    },
    {
     "data": {
      "image/png": "[encoded data removed]",
      "text/plain": [
       "<Figure size 432x288 with 1 Axes>"
      ]
     },
     "metadata": {
      "needs_background": "light"
     },
     "output_type": "display_data"
    }
   ],
   "source": [
    "df[\"percentage_6_months_q10\"] = pd.qcut(df[\"percentage_6_months\"], 10)\n",
    "df.groupby(\"percentage_6_months_q10\").y.mean().plot.barh()"
   ]
  },
  {
   "cell_type": "code",
   "execution_count": 293,
   "id": "2deda40f",
   "metadata": {},
   "outputs": [
    {
     "data": {
      "text/plain": [
       "0.0167"
      ]
     },
     "execution_count": 293,
     "metadata": {},
     "output_type": "execute_result"
    }
   ],
   "source": [
    "df.groupby(\"percentage_6_months_q10\").y.mean().index[0].right"
   ]
  },
  {
   "cell_type": "code",
   "execution_count": 294,
   "id": "8874fca5",
   "metadata": {},
   "outputs": [
    {
     "data": {
      "text/plain": [
       "<matplotlib.lines.Line2D at 0x7f7f3dab8190>"
      ]
     },
     "execution_count": 294,
     "metadata": {},
     "output_type": "execute_result"
    },
    {
     "data": {
      "image/png": "[encoded data removed]",
      "text/plain": [
       "<Figure size 1440x720 with 1 Axes>"
      ]
     },
     "metadata": {
      "needs_background": "light"
     },
     "output_type": "display_data"
    }
   ],
   "source": [
    "upper_bound_lowest_class = df.groupby(\"percentage_6_months_q10\").y.mean().index[0].right\n",
    "\n",
    "plt.figure(figsize=(20, 10))\n",
    "df.percentage_6_months.hist(bins=100)\n",
    "plt.axvline(upper_bound_lowest_class, color=\"red\")"
   ]
  },
  {
   "cell_type": "markdown",
   "id": "b1333221",
   "metadata": {},
   "source": [
    "# Building first model\n",
    "- With balanced class for target `y` :\n",
    "    - We use the 4980 rows with `y=1`\n",
    "    - We delete rows `y=0` to keep only 4980 of them\n",
    "        "
   ]
  },
  {
   "cell_type": "code",
   "execution_count": 295,
   "id": "dbb376a9",
   "metadata": {},
   "outputs": [],
   "source": [
    "df_1 = df[df.y==1]\n",
    "df_0 = df[df.y==0].sample(n=df_1.shape[0])\n",
    "\n",
    "df_balanced = pd.concat([df_0, df_1], axis=0)\n",
    "\n",
    "data = df_balanced.copy()"
   ]
  },
  {
   "cell_type": "markdown",
   "id": "fda2c210",
   "metadata": {},
   "source": [
    "## Variables : \n",
    "- percentage_6_months : \n",
    "    - % of the load_balance paid back during the last 6 months\n",
    "- sex : \n",
    "    is_woman (so if man, this variable equal 0, if woman equals 1)\n",
    "- education@"
   ]
  },
  {
   "cell_type": "code",
   "execution_count": 296,
   "id": "976c6530",
   "metadata": {},
   "outputs": [],
   "source": [
    "list_of_X = [\n",
    "    pd.get_dummies(data.sex.astype(str), drop_first=True).rename(columns={\"2\": \"is_woman\"}),\n",
    "    data[\"percentage_6_months\"],\n",
    "    pd.get_dummies(data.education.astype(str), drop_first=True)\n",
    "]\n",
    "X = pd.concat(list_of_X, axis=1)\n",
    "Y = data.y"
   ]
  },
  {
   "cell_type": "code",
   "execution_count": 297,
   "id": "00723ed7",
   "metadata": {},
   "outputs": [],
   "source": [
    "# data"
   ]
  },
  {
   "cell_type": "markdown",
   "id": "1258a6ed",
   "metadata": {},
   "source": [
    "# Regression Logistique\n",
    "\n",
    "\n",
    "### On batit un score avec un modèle linéaire (=comme la régression linéaire)\n",
    "\n",
    "$ Score = a_1 \\times X_1 + a_2 \\times X_2 + a_3 \\times X_3 ...$ \n",
    "\n",
    "### Ce score est en fait égal à :\n",
    "$ Score = ln(\\frac{\\mathbb{P}(Y=1|X)}{1-\\mathbb{P}(Y=1|X)}) = ln(\\frac{\\mathbb{P}(Y=1|X)}{\\mathbb{P}(Y=0|X)})$\n",
    "\n",
    "\n",
    "### On peut montrer par le calcul que la probabilité que Y=1 sachant X vaut : \n",
    "\n",
    "$\\mathbb{P}(Y=1|X) = \\dfrac{1}{1+e^{-Score}}$\n",
    "\n",
    "\n",
    "\n",
    "### Donc : \n",
    "\n",
    "$Proba(Y=1 \\text{ sachant } X) = \\mathbb{P}(Y=1|X) = f(Score) $ avec $f$ qui est la fonction logistique\n",
    "\n",
    "### $ f(x) = \\frac{1}{1+e^{-x}} $ "
   ]
  },
  {
   "cell_type": "code",
   "execution_count": 298,
   "id": "c46447ae",
   "metadata": {},
   "outputs": [],
   "source": [
    "X_train = X.sample(n=int(len(X)*0.70))\n",
    "Y_train = Y[Y.index.isin(X_train.index)]\n",
    "\n",
    "\n",
    "X_test = X[~X.index.isin(X_train.index)]\n",
    "Y_test = Y[~Y.index.isin(X_train.index)]"
   ]
  },
  {
   "cell_type": "code",
   "execution_count": 299,
   "id": "2bfa395b",
   "metadata": {},
   "outputs": [],
   "source": [
    "from sklearn.metrics import confusion_matrix, accuracy_score,classification_report\n",
    "\n",
    "def pipeline(classifier, X_train, X_test, Y_train, Y_test):\n",
    "   \n",
    "    #fit the classifier with our training data\n",
    "    classifier.fit(X_train, Y_train)\n",
    "    \n",
    "    #predict the labels of our train data and store them in train_preds\n",
    "    train_preds = classifier.predict(X_train)\n",
    "\n",
    "    #predict the labels of our test data and store them in test_preds\n",
    "    test_preds = classifier.predict(X_test)\n",
    "    \n",
    "    print('Training accuracy: ', accuracy_score(Y_train, train_preds))\n",
    "    print('Testing accuracy: ', accuracy_score(Y_test, test_preds))\n",
    "    \n",
    "    print('Testing Report: \\n',classification_report(Y_test, test_preds))\n",
    "    \n",
    "    cm_nb = confusion_matrix(Y_test, test_preds)\n",
    "    plt.figure(figsize = (6, 6));\n",
    "    plt.title(classifier);\n",
    "    \n",
    "    return sns.heatmap(cm_nb, annot = True, fmt = \".3f\", linewidths = .5, square = True, cmap = \"YlGnBu\"), plt.xlabel('Predicted Label'),plt.ylabel('True Label');"
   ]
  },
  {
   "cell_type": "code",
   "execution_count": 300,
   "id": "2818c371",
   "metadata": {},
   "outputs": [
    {
     "name": "stdout",
     "output_type": "stream",
     "text": [
      "Training accuracy:  0.5123350545037292\n",
      "Testing accuracy:  0.45917001338688085\n",
      "Testing Report: \n",
      "               precision    recall  f1-score   support\n",
      "\n",
      "           0       0.47      0.55      0.50      1497\n",
      "           1       0.45      0.37      0.41      1491\n",
      "\n",
      "    accuracy                           0.46      2988\n",
      "   macro avg       0.46      0.46      0.45      2988\n",
      "weighted avg       0.46      0.46      0.45      2988\n",
      "\n"
     ]
    },
    {
     "data": {
      "text/plain": [
       "(<AxesSubplot:title={'center':'LogisticRegression()'}, xlabel='Predicted Label', ylabel='True Label'>,\n",
       " Text(0.5, 62.15999999999998, 'Predicted Label'),\n",
       " Text(33.0, 0.5, 'True Label'))"
      ]
     },
     "execution_count": 300,
     "metadata": {},
     "output_type": "execute_result"
    },
    {
     "data": {
      "image/png": "[encoded data removed]",
      "text/plain": [
       "<Figure size 432x432 with 2 Axes>"
      ]
     },
     "metadata": {
      "needs_background": "light"
     },
     "output_type": "display_data"
    }
   ],
   "source": [
    "from sklearn.linear_model import LogisticRegression\n",
    "\n",
    "lr = LogisticRegression(fit_intercept=True)\n",
    "\n",
    "pipeline(\n",
    "    classifier=lr,\n",
    "    X_train=X_train, \n",
    "    X_test=X_test, \n",
    "    Y_train=Y_train, \n",
    "    Y_test=Y_test\n",
    ")"
   ]
  },
  {
   "cell_type": "code",
   "execution_count": 301,
   "id": "ceba1ff9",
   "metadata": {},
   "outputs": [
    {
     "name": "stdout",
     "output_type": "stream",
     "text": [
      "Training accuracy:  0.9578313253012049\n",
      "Testing accuracy:  0.47690763052208834\n",
      "Testing Report: \n",
      "               precision    recall  f1-score   support\n",
      "\n",
      "           0       0.48      0.48      0.48      1497\n",
      "           1       0.48      0.48      0.48      1491\n",
      "\n",
      "    accuracy                           0.48      2988\n",
      "   macro avg       0.48      0.48      0.48      2988\n",
      "weighted avg       0.48      0.48      0.48      2988\n",
      "\n"
     ]
    },
    {
     "data": {
      "text/plain": [
       "(<AxesSubplot:title={'center':'RandomForestClassifier()'}, xlabel='Predicted Label', ylabel='True Label'>,\n",
       " Text(0.5, 62.15999999999998, 'Predicted Label'),\n",
       " Text(33.0, 0.5, 'True Label'))"
      ]
     },
     "execution_count": 301,
     "metadata": {},
     "output_type": "execute_result"
    },
    {
     "data": {
      "image/png": "[encoded data removed]",
      "text/plain": [
       "<Figure size 432x432 with 2 Axes>"
      ]
     },
     "metadata": {
      "needs_background": "light"
     },
     "output_type": "display_data"
    }
   ],
   "source": [
    "from sklearn.ensemble import RandomForestClassifier\n",
    "\n",
    "rf = RandomForestClassifier()\n",
    "\n",
    "pipeline(\n",
    "    classifier=rf,\n",
    "    X_train=X_train, \n",
    "    X_test=X_test, \n",
    "    Y_train=Y_train, \n",
    "    Y_test=Y_test\n",
    ")"
   ]
  },
  {
   "cell_type": "code",
   "execution_count": 302,
   "id": "39ae3c71",
   "metadata": {},
   "outputs": [
    {
     "name": "stdout",
     "output_type": "stream",
     "text": [
      "Training accuracy:  0.8548479632816982\n",
      "Testing accuracy:  0.4923025435073628\n",
      "Testing Report: \n",
      "               precision    recall  f1-score   support\n",
      "\n",
      "           0       0.49      0.55      0.52      1497\n",
      "           1       0.49      0.43      0.46      1491\n",
      "\n",
      "    accuracy                           0.49      2988\n",
      "   macro avg       0.49      0.49      0.49      2988\n",
      "weighted avg       0.49      0.49      0.49      2988\n",
      "\n"
     ]
    },
    {
     "data": {
      "text/plain": [
       "(<AxesSubplot:title={'center':'RandomForestClassifier(n_estimators=4)'}, xlabel='Predicted Label', ylabel='True Label'>,\n",
       " Text(0.5, 62.15999999999998, 'Predicted Label'),\n",
       " Text(33.0, 0.5, 'True Label'))"
      ]
     },
     "execution_count": 302,
     "metadata": {},
     "output_type": "execute_result"
    },
    {
     "data": {
      "image/png": "[encoded data removed]",
      "text/plain": [
       "<Figure size 432x432 with 2 Axes>"
      ]
     },
     "metadata": {
      "needs_background": "light"
     },
     "output_type": "display_data"
    }
   ],
   "source": [
    "from sklearn.ensemble import RandomForestClassifier\n",
    "\n",
    "rf = RandomForestClassifier(\n",
    "n_estimators=4\n",
    ")\n",
    "\n",
    "pipeline(\n",
    "    classifier=rf,\n",
    "    X_train=X_train, \n",
    "    X_test=X_test, \n",
    "    Y_train=Y_train, \n",
    "    Y_test=Y_test\n",
    ")"
   ]
  },
  {
   "cell_type": "code",
   "execution_count": 304,
   "id": "5cb47f49",
   "metadata": {},
   "outputs": [
    {
     "name": "stdout",
     "output_type": "stream",
     "text": [
      "Training accuracy:  0.6356855995410212\n",
      "Testing accuracy:  0.5036813922356091\n",
      "Testing Report: \n",
      "               precision    recall  f1-score   support\n",
      "\n",
      "           0       0.52      0.35      0.42      1531\n",
      "           1       0.49      0.67      0.57      1457\n",
      "\n",
      "    accuracy                           0.50      2988\n",
      "   macro avg       0.51      0.51      0.49      2988\n",
      "weighted avg       0.51      0.50      0.49      2988\n",
      "\n"
     ]
    },
    {
     "data": {
      "text/plain": [
       "(<AxesSubplot:title={'center':'RandomForestClassifier(max_depth=6, max_features=10, n_estimators=20,\\n                       random_state=18)'}, xlabel='Predicted Label', ylabel='True Label'>,\n",
       " Text(0.5, 62.15999999999998, 'Predicted Label'),\n",
       " Text(33.0, 0.5, 'True Label'))"
      ]
     },
     "execution_count": 304,
     "metadata": {},
     "output_type": "execute_result"
    },
    {
     "data": {
      "image/png": "[encoded data removed]",
      "text/plain": [
       "<Figure size 432x432 with 2 Axes>"
      ]
     },
     "metadata": {
      "needs_background": "light"
     },
     "output_type": "display_data"
    }
   ],
   "source": [
    "numerics = ['int16', 'int32', 'int64', 'float16', 'float32', 'float64']\n",
    "data_ml = data.select_dtypes(include=numerics).copy()\n",
    "\n",
    "X_train = data_ml.drop(\"y\", axis=1).sample(n=int(len(X)*0.70))\n",
    "Y_train = data_ml[data_ml.index.isin(X_train.index)].y\n",
    "\n",
    "\n",
    "X_test = data_ml[~data_ml.index.isin(X_train.index)].drop(\"y\", axis=1)\n",
    "Y_test = data_ml[~data_ml.index.isin(X_train.index)].y\n",
    "\n",
    "rf = RandomForestClassifier(\n",
    "n_estimators=20,\n",
    "    max_depth=6,\n",
    "    max_features = 10, \n",
    "    bootstrap = True, \n",
    "    random_state = 18\n",
    ")\n",
    "\n",
    "pipeline(\n",
    "    classifier=rf,\n",
    "    X_train=X_train, \n",
    "    X_test=X_test, \n",
    "    Y_train=Y_train, \n",
    "    Y_test=Y_test\n",
    ")"
   ]
  },
  {
   "cell_type": "code",
   "execution_count": 268,
   "id": "158272f2",
   "metadata": {},
   "outputs": [
    {
     "name": "stdout",
     "output_type": "stream",
     "text": [
      "Training accuracy:  0.5100401606425703\n",
      "Testing accuracy:  0.4882864792503347\n",
      "Testing Report: \n",
      "               precision    recall  f1-score   support\n",
      "\n",
      "           0       0.49      0.83      0.61      1474\n",
      "           1       0.48      0.16      0.24      1514\n",
      "\n",
      "    accuracy                           0.49      2988\n",
      "   macro avg       0.49      0.49      0.43      2988\n",
      "weighted avg       0.49      0.49      0.42      2988\n",
      "\n"
     ]
    },
    {
     "name": "stderr",
     "output_type": "stream",
     "text": [
      "/Library/Frameworks/Python.framework/Versions/3.9/lib/python3.9/site-packages/sklearn/utils/validation.py:1688: FutureWarning: Feature names only support names that are all strings. Got feature names with dtypes: ['int', 'str']. An error will be raised in 1.2.\n",
      "  warnings.warn(\n",
      "/Library/Frameworks/Python.framework/Versions/3.9/lib/python3.9/site-packages/sklearn/utils/validation.py:1688: FutureWarning: Feature names only support names that are all strings. Got feature names with dtypes: ['int', 'str']. An error will be raised in 1.2.\n",
      "  warnings.warn(\n",
      "/Library/Frameworks/Python.framework/Versions/3.9/lib/python3.9/site-packages/sklearn/utils/validation.py:1688: FutureWarning: Feature names only support names that are all strings. Got feature names with dtypes: ['int', 'str']. An error will be raised in 1.2.\n",
      "  warnings.warn(\n"
     ]
    },
    {
     "data": {
      "text/plain": [
       "(<AxesSubplot:title={'center':'LogisticRegression()'}, xlabel='Predicted Label', ylabel='True Label'>,\n",
       " Text(0.5, 62.15999999999998, 'Predicted Label'),\n",
       " Text(33.0, 0.5, 'True Label'))"
      ]
     },
     "execution_count": 268,
     "metadata": {},
     "output_type": "execute_result"
    },
    {
     "data": {
      "image/png": "[encoded data removed]",
      "text/plain": [
       "<Figure size 432x432 with 2 Axes>"
      ]
     },
     "metadata": {
      "needs_background": "light"
     },
     "output_type": "display_data"
    }
   ],
   "source": [
    "numerics = ['int16', 'int32', 'int64', 'float16', 'float32', 'float64']\n",
    "data_ml = data.select_dtypes(include=numerics).copy()\n",
    "\n",
    "data_ml = pd.concat(\n",
    "    [\n",
    "        data_ml.drop([\"sex\", \"education\", \"marriage\"], axis=1),\n",
    "        pd.get_dummies(data_ml[\"sex\"], drop_first=True),\n",
    "        pd.get_dummies(data_ml[\"education\"], drop_first=True),\n",
    "        pd.get_dummies(data_ml[\"marriage\"], drop_first=True)\n",
    "    ],\n",
    "    axis=1\n",
    ")\n",
    "\n",
    "X_train = data_ml.drop(\"y\", axis=1).sample(n=int(len(X)*0.70))\n",
    "Y_train = data_ml[data_ml.index.isin(X_train.index)].y\n",
    "\n",
    "\n",
    "X_test = data_ml[~data_ml.index.isin(X_train.index)].drop(\"y\", axis=1)\n",
    "Y_test = data_ml[~data_ml.index.isin(X_train.index)].y\n",
    "\n",
    "\n",
    "lr = LogisticRegression()\n",
    "\n",
    "pipeline(\n",
    "    classifier=lr,\n",
    "    X_train=X_train, \n",
    "    X_test=X_test, \n",
    "    Y_train=Y_train, \n",
    "    Y_test=Y_test\n",
    ")"
   ]
  },
  {
   "cell_type": "code",
   "execution_count": 272,
   "id": "78075c29",
   "metadata": {},
   "outputs": [
    {
     "name": "stdout",
     "output_type": "stream",
     "text": [
      "[[743 755]\n",
      " [851 639]]\n"
     ]
    }
   ],
   "source": [
    "from sklearn.ensemble import GradientBoostingClassifier\n",
    "\n",
    "data_ml = data.select_dtypes(include=numerics).copy()\n",
    "\n",
    "\n",
    "X_train = data_ml.drop(\"y\", axis=1).sample(n=int(len(X)*0.70))\n",
    "Y_train = data_ml[data_ml.index.isin(X_train.index)].y\n",
    "\n",
    "\n",
    "X_test = data_ml[~data_ml.index.isin(X_train.index)].drop(\"y\", axis=1)\n",
    "Y_test = data_ml[~data_ml.index.isin(X_train.index)].y\n",
    "\n",
    "\n",
    "GBR = GradientBoostingClassifier()\n",
    "GBR.fit(X_train,Y_train)\n",
    "predicted = GBR.predict(X_test)\n",
    "\n",
    "print(confusion_matrix(Y_test, predicted))"
   ]
  },
  {
   "cell_type": "code",
   "execution_count": 211,
   "id": "a49174df",
   "metadata": {},
   "outputs": [
    {
     "name": "stdout",
     "output_type": "stream",
     "text": [
      "coefficient is_woman -0.21839816835175416\n",
      "coefficient percentage_6_months -0.3561743655669664\n",
      "coefficient 1 0.411169494648158\n",
      "coefficient 2 0.6997570598042814\n",
      "coefficient 3 0.8009122185891976\n",
      "coefficient 4 -0.5824660317825744\n",
      "coefficient 5 -0.4048454185527318\n",
      "coefficient 6 -0.17097667890042936\n"
     ]
    },
    {
     "data": {
      "image/png": "[encoded data removed]",
      "text/plain": [
       "<Figure size 432x288 with 2 Axes>"
      ]
     },
     "metadata": {
      "needs_background": "light"
     },
     "output_type": "display_data"
    }
   ],
   "source": [
    "import matplotlib.pyplot as plt\n",
    "\n",
    "#plt.figure(figsize=(20, 10))\n",
    "#plt.scatter(Y, predictions)\n",
    "\n",
    "for col, coef in zip(X.columns, lr.coef_[0]):\n",
    "    print(\"coefficient\", col, coef)\n",
    "\n",
    "    \n",
    "cm = confusion_matrix(Y, predictions)\n",
    "\n",
    "import seaborn as sns\n",
    "import matplotlib.pyplot as plt     \n",
    "\n",
    "ax= plt.subplot()\n",
    "sns.heatmap(cm / cm.sum().sum(), annot=True, fmt='g', ax=ax);  #annot=True to annotate cells, ftm='g' to disable scientific notation\n",
    "\n",
    "# labels, title and ticks\n",
    "ax.set_xlabel('Predicted labels');ax.set_ylabel('True labels'); \n",
    "ax.set_title('Confusion Matrix'); \n",
    "#ax.xaxis.set_ticklabels(['business', 'health']); ax.yaxis.set_ticklabels(['health', 'business']);"
   ]
  },
  {
   "cell_type": "markdown",
   "id": "13bda3c2",
   "metadata": {},
   "source": [
    "## 55 % of correct predictions (ie = Accuracy)"
   ]
  },
  {
   "cell_type": "code",
   "execution_count": 163,
   "id": "f47d1e24",
   "metadata": {},
   "outputs": [
    {
     "data": {
      "text/plain": [
       "0.5509036144578313"
      ]
     },
     "execution_count": 163,
     "metadata": {},
     "output_type": "execute_result"
    }
   ],
   "source": [
    "import numpy as np\n",
    "(cm[0][0] + cm[1][1]) / np.sum(cm)"
   ]
  },
  {
   "cell_type": "code",
   "execution_count": 165,
   "id": "eb2cd035",
   "metadata": {},
   "outputs": [
    {
     "data": {
      "text/plain": [
       "0    4980\n",
       "1    4980\n",
       "Name: y, dtype: int64"
      ]
     },
     "execution_count": 165,
     "metadata": {},
     "output_type": "execute_result"
    }
   ],
   "source": [
    "df_balanced.y.value_counts()"
   ]
  },
  {
   "cell_type": "code",
   "execution_count": 168,
   "id": "5d596aa1",
   "metadata": {},
   "outputs": [
    {
     "data": {
      "text/plain": [
       "array([0.47550201, 0.62630522])"
      ]
     },
     "execution_count": 168,
     "metadata": {},
     "output_type": "execute_result"
    }
   ],
   "source": [
    "from sklearn.metrics import precision_recall_fscore_support\n",
    "prfs = precision_recall_fscore_support(Y, predictions)\n",
    "# Precision \n",
    "# Recall -> How luch did we find from a specific class ?\n",
    "# 47 % pour 0 : we found 47 % of the people who paid pack\n",
    "# 62 % pour 1 : we found 62 % of people who defaulted\n",
    "prfs[1] \n",
    "\n",
    "# FbetaScore\n",
    "# Support"
   ]
  },
  {
   "cell_type": "code",
   "execution_count": null,
   "id": "5670655b",
   "metadata": {},
   "outputs": [],
   "source": [
    "##\n",
    "\n",
    "### "
   ]
  },
  {
   "cell_type": "markdown",
   "id": "20bb77ae",
   "metadata": {},
   "source": [
    "### Preprocessing of the $X$ values\n",
    "\n",
    "#### Quantitative variable\n",
    "\n",
    "\n",
    "- pay_[] : \n",
    "    - 0 and -1 mean the same thing for now\n",
    "\n",
    "\n",
    "#### Qualitative variable\n",
    "\n",
    "- 0 or 1 : \n",
    "    - Sex (instead 1 or 2)\n",
    "\n",
    "\n",
    "- Multiple : \n",
    "    - Education \n",
    "        - 1 = graduate school; \n",
    "        - 2 = university\n",
    "        - 3 = high school\n",
    "        - 4 = others\n",
    "        + others values (260 rows in total = 1.15 %) \n",
    "        \n",
    "    - Marriage \n",
    "        - 1 = married\n",
    "        - 2 = single\n",
    "        - 3 = others"
   ]
  },
  {
   "cell_type": "code",
   "execution_count": null,
   "id": "842e17b1",
   "metadata": {},
   "outputs": [],
   "source": []
  }
 ],
 "metadata": {
  "kernelspec": {
   "display_name": "Python 3 (ipykernel)",
   "language": "python",
   "name": "python3"
  },
  "language_info": {
   "codemirror_mode": {
    "name": "ipython",
    "version": 3
   },
   "file_extension": ".py",
   "mimetype": "text/x-python",
   "name": "python",
   "nbconvert_exporter": "python",
   "pygments_lexer": "ipython3",
   "version": "3.9.7"
  }
 },
 "nbformat": 4,
 "nbformat_minor": 5
}
