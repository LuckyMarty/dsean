{
 "cells": [
  {
   "cell_type": "markdown",
   "id": "ff85c984",
   "metadata": {},
   "source": [
    "# [Exercices] Premier pas avec `pandas`\n"
   ]
  },
  {
   "cell_type": "markdown",
   "id": "20601db7",
   "metadata": {},
   "source": [
    "# [Ex. 1] \n",
    "\n",
    "\n",
    "##### On s'intéresse au fichier disponible à : `data/co2-data/owid-co2-data.csv` \n",
    "\n",
    "- 1 - Lire le fichier\n",
    "- 2 - S'assurer de la cohérence du type de chaque colonne\n",
    "- 3 - Classer les pays par émissions totales de CO2 (= colonne `co2`) par ordre décroissant (quelle est l'unité de la variable CO2 ?). On pourra classer les pays seulement sur 2018.\n",
    "- 4 - Classer les pays par PIB (= colonne `gdp`) par ordre décroissant. (quelle est l'unité de la variable PIB ?)\n",
    "- 5 - Classer les pays par CO2 / PIB par ordre décroissant.\n",
    "- 6 - Réaliser les top 25 pour ces 3 classements\n",
    "- 7 - Quels pays apparraissent dans deux top ? \n",
    "- 8 - Dans 3 tops ?"
   ]
  },
  {
   "cell_type": "markdown",
   "id": "7651e793",
   "metadata": {},
   "source": [
    "#### question 1"
   ]
  },
  {
   "cell_type": "markdown",
   "id": "ee07752b",
   "metadata": {},
   "source": [
    "#### question 2"
   ]
  },
  {
   "cell_type": "markdown",
   "id": "ca0304f9",
   "metadata": {},
   "source": [
    "#### question 3"
   ]
  },
  {
   "cell_type": "markdown",
   "id": "e733ba7e",
   "metadata": {},
   "source": [
    "#### question 4"
   ]
  },
  {
   "cell_type": "markdown",
   "id": "6febef85",
   "metadata": {},
   "source": [
    "#### question 5"
   ]
  },
  {
   "cell_type": "markdown",
   "id": "3bf6b9fd",
   "metadata": {},
   "source": [
    "##### Rappel : list comprehension"
   ]
  },
  {
   "cell_type": "code",
   "execution_count": 39,
   "id": "e352397c",
   "metadata": {},
   "outputs": [
    {
     "data": {
      "text/plain": [
       "[0, 4, 16, 36, 64]"
      ]
     },
     "execution_count": 39,
     "metadata": {},
     "output_type": "execute_result"
    }
   ],
   "source": [
    "res = []\n",
    "for x in range(10):\n",
    "    res.append(x**2)\n",
    "res\n",
    "\n",
    "\n",
    "res = [\n",
    "    x**2 \n",
    "    for x in range(10)\n",
    "]\n",
    "res\n",
    "\n",
    "\n",
    "res = [(x,y) for x in range(1, 9) for y in range(1, 9)]\n",
    "res\n",
    "\n",
    "\n",
    "res = [x**2 for x in range(10) if x%2==0]\n",
    "res\n",
    "\n"
   ]
  },
  {
   "cell_type": "markdown",
   "id": "fe9f7152",
   "metadata": {},
   "source": [
    "#### Question 6"
   ]
  },
  {
   "cell_type": "markdown",
   "id": "04b1b000",
   "metadata": {},
   "source": [
    "#### Question 7"
   ]
  },
  {
   "cell_type": "markdown",
   "id": "662993fc",
   "metadata": {},
   "source": [
    "#### Question 8"
   ]
  },
  {
   "cell_type": "markdown",
   "id": "9b0cdca9",
   "metadata": {},
   "source": [
    "# [Ex. 2] Création de données de tests\n",
    "\n",
    "### Question 1\n",
    "\n",
    "> On veut créer un historique de ventes pour tester le code d'un future site de ecommerce - on peut le résumer dans le fichier CSV suivant :  \n",
    "\n",
    "|        timestamp | customer_id | product_id | quantity | price | revenue |\n",
    "|-----------------:|------------:|-----------:|---------:|------:|--------:|\n",
    "| 2022/12/27 13:05 |        1986 |       3456 |        4 |     5 |      20 |\n",
    "| 2022/12/27 13:05 |        1986 |       3459 |        3 |     6 |      18 |\n",
    "| 2022/12/27 13:06 |       24501 |       1242 |        2 |     4 |       8 |\n",
    "| 2022/12/27 13:12 |       48285 |       3424 |        4 |    25 |     100 |\n",
    "| 2022/12/27 13:14 |        2422 |       3456 |       10 |     5 |      50 |\n",
    "|              ... |         ... |        ... |      ... |   ... |     ... |\n",
    "\n",
    "\n",
    "- timestamp (datetime)\n",
    "- customer_id (int)\n",
    "- product_id (int)\n",
    "- quantity (int)\n",
    "- price (int)\n",
    "- revenue (int)\n",
    "\n",
    "\n",
    "De plus on souhaite que l'historique vérifie les contraintes suivantes : \n",
    "- La période va du 2022/07/01 00:00:00 au 2022/12/31 23:59:59 (inclus)\n",
    "- 100 000 transactions (lignes) \n",
    "- 4000 clients différents\n",
    "- 250 produits différents avec un prix moyen de 15 €\n",
    "- La quantité moyenne vendue par transaction est de 2.1 unités\n",
    "- Un même produit est toujours vendu au même prix\n",
    "\n",
    "**Créer un tel fichier**\n",
    "\n",
    "(**en adaptant le code ci-dessous avec les bonnes constantes et en ajoutant les bons imports**)\n",
    "\n",
    "\n",
    "### Question 2 \n",
    "On ajoute les contraintes suivantes : \n",
    "- Lorsque l'on achète le mardi, on bénéficie d'une remise (crée une colonne discount)\n",
    "    - De 5% pour une transaction de 1 à 3 produits\n",
    "    - De 10% pour une transaction à partir de 4 produits\n",
    "- Les clients sont 50 % à faire au moins une transaction par mois sur tout la période\n",
    "- 10 % des clients font une seule transaction sur tout la période\n",
    "\n",
    "\n",
    "**Créer un tel fichier**\n",
    "\n",
    "\n",
    "### Question 3\n",
    "Ecrire une fonction `split_train_test` qui prend en argument une DataFrame `df` et un réel `test_proportion` entre 0 et 1 et renvoie deux DataFrames `train` et `test`, ayant les mêmes colonnes que `df` et se partageant ses lignes (aléatoirement et de manière mutuellement exclusive) avec les proportions `1 - test_portion` et `test_portion`\n",
    "\n",
    "\n",
    "### Question 4\n",
    "Même question, en faisant en sorte que les moyennes des variables quantitatives des deux DataFrames `test` et `train` soient proches de celles des moyennes des variables quantitatives de `df` (moins de 10% d'écart)\n",
    "\n",
    "### Question 5\n",
    "Même question, en faisant en sorte que les histogrammes des variables quantitatives des deux DataFrames `test` et `train` soient ressemblant à ceux des variables quantitatives de `df` (moins de 10% d'écart)"
   ]
  },
  {
   "cell_type": "markdown",
   "id": "b4affcad",
   "metadata": {},
   "source": [
    "# [Ex. 3 ] \n",
    "\n",
    "Le fichier `movie_metadata.csv` contient des informations au sujet de 5043 films qui ont été extraites de l'IMDB.\n",
    "\n",
    "- 1.\n",
    " - a. Quels sont les 10 réalisateurs qui ont le meilleur score (`imdb_score`) moyen ?\n",
    " - b. Quels sont les 10 pays qui ont le meilleur score (`imdb_score`) moyen ?\n",
    " \n",
    "\n",
    "- 2. \n",
    " - a. Créer une colonne par genre (column `genres` Action, Adventure...) qui faut True si le film a ce genre renseigné et False sinon.\n",
    " - b. Calculer le nombre total de films par genre\n",
    " - c. Calculer l'évolution du nombre de films par genre entre 2000 et 2010\n",
    " - d. Calculer l'évolution 'Year to Year' (% d'augmentation entre année N et N+1) du nombre de films pour chaque genre.\n",
    " - e. Faire de même pour chaque pays.\n",
    " \n",
    " \n",
    "- 3. On s'intéresser seulement aux films publiés après 2000.\n",
    "- a. Calculer le prix à la minute de chaque film (à partir des colonnes `budget` et `duration`)\n",
    "- b. Quels sont tous les acteurs (renseignés dans les colonnes `actor_X_name`) qui ont joué dans les films qui ont un prix à la minute dans les 10% les plus élevés ? \n",
    "\n",
    "\n",
    "- 4. \n",
    "- a. Quels sont les réalisateurs dont les films ont la rentabilité moyenne (`gross` / `budget`) la plus élevée ?\n",
    "- b. Même question pour les pays.\n",
    "\n",
    "\n",
    "- 5. \n",
    " - a. Plusieurs utilisateurs de l'IMDB ont reporté que les notes seraient gonflées depuis quelques années. Que peut-on calculer pour essayer de s'en assurer ? Proposer deux méthodes.\n",
    " - b. Implémenter ces deux méthodes.\n",
    "\n",
    "\n",
    "- 6. \n",
    " - a. En calculant des moyennes, en regardant des évolutions, en calculant des proportions ou des tables de contingence... déterminer des conditions qui semblent être associées à des notes plus élevées.\n",
    " - b. Bâtir un modèle de prédiction de la variable `imdb_score` sur la base des autres variables et des données disponibles a priori (ie, pour réaliser la prédiction d'un film sorti en 2010, on peut utiliser toutes les statistiques des films sortis en 2009)\n",
    " (On pourra utiliser seulement les variables #likes sur facebook pour le film, et la durée et filtrer sur les films après 2000 et sur les films des Etats-Unis et du Royaume Uni et reproduire la méthode dans 3_a_... - 9. Un peu de prédiction - 𝑃=𝑎1×𝐶+𝑎2×𝐷 )\n",
    "\n",
    "\n",
    "- 7. On crée un nouvelle variable `is_good_movie` qui vaut True si l`imdb_score` est plus grand que 7 et vaut False sinon. \n",
    "\n",
    " - a. En calculant des moyennes, en regardant des évolutions, en calculant des proportions ou des tables de contingence... déterminer des conditions qui semblent être associées à \"des bons films\".\n",
    " - b. Bâtir un modèle de prédiction de la variable `is_good_movie` sur la base des autres variables et des données disponibles a priori.\n"
   ]
  },
  {
   "cell_type": "markdown",
   "id": "9475928e",
   "metadata": {},
   "source": [
    "# [Ex. 4] \n",
    "###### On se restreint aux colonnes suivantes : \n",
    "['color', 'duration', 'country'  'budget', 'title_year', 'imdb_score']\n",
    "\n",
    "Sélectionner un échantillon représentatif des :\n",
    "- Films américains de 2000 à 2010 (10 % du total des films américains de 2000 à 2010)\n",
    "- Films de Science-Fiction (20 % du total des films de SF)\n",
    "\n",
    "\n",
    "Même questions en ajoutant la colonne 'genres'"
   ]
  },
  {
   "cell_type": "markdown",
   "id": "19ccf605",
   "metadata": {},
   "source": [
    "# [Ex. 5] Une question d'entretien\n",
    "\n",
    "\n",
    "Les questions suivantes ont été posées au cours de plusieurs entretiens pour des postes de Junior Data Scientists au sein d'une start-up parisienne : \n",
    "\n",
    "> On dispose d'un historique de ventes sur un site de ecommerce qui peut être résumé dans le fichier CSV suivant :  \n",
    "\n",
    "|        timestamp | customer_id | product_id | quantity | price | revenue |\n",
    "|-----------------:|------------:|-----------:|---------:|------:|--------:|\n",
    "| 2022/12/27 13:05 |        1986 |       3456 |        4 |     5 |      20 |\n",
    "| 2022/12/27 13:05 |        1986 |       3459 |        3 |     6 |      18 |\n",
    "| 2022/12/27 13:06 |       24501 |       1242 |        2 |     4 |       8 |\n",
    "| 2022/12/27 13:12 |       48285 |       3424 |        4 |    25 |     100 |\n",
    "| 2022/12/27 13:14 |        2422 |       3456 |       10 |     5 |      50 |\n",
    "|              ... |         ... |        ... |      ... |   ... |     ... |\n",
    "\n",
    "\n",
    "- timestamp (datetime)\n",
    "- customer_id (int)\n",
    "- product_id (int)\n",
    "- quantity (int)\n",
    "- price (int)\n",
    "- revenue (int)\n",
    "\n",
    "Pour chaque transaction (ie une ligne dans le fichier) ci-dessus :\n",
    "- 1. Ecrire qui une fonction qui prend en entrée la DataFrame des transactions et l'index d'une ligne (transaction) et renvoie True si la transaction a un chiffre d'affaire (colonne `revenue`) qui est dans le top 25% des transactions de la journée. Utiliser cette fonction pour flaguer ces transactions.\n",
    "\n",
    "\n",
    "- 2. Même question mais avec le mois en cours à la place de la journée\n"
   ]
  }
 ],
 "metadata": {
  "kernelspec": {
   "display_name": "Python 3 (ipykernel)",
   "language": "python",
   "name": "python3"
  },
  "language_info": {
   "codemirror_mode": {
    "name": "ipython",
    "version": 3
   },
   "file_extension": ".py",
   "mimetype": "text/x-python",
   "name": "python",
   "nbconvert_exporter": "python",
   "pygments_lexer": "ipython3",
   "version": "3.9.7"
  }
 },
 "nbformat": 4,
 "nbformat_minor": 5
}
