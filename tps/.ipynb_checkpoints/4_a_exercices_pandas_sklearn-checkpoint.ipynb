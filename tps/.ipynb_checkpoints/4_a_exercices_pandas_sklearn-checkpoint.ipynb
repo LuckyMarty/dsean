{
 "cells": [
  {
   "cell_type": "code",
   "execution_count": 2,
   "id": "05c93916",
   "metadata": {},
   "outputs": [],
   "source": [
    "import pandas as pd\n",
    "import numpy as np\n",
    "import matplotlib.pyplot as plt"
   ]
  },
  {
   "cell_type": "markdown",
   "id": "da206b57",
   "metadata": {},
   "source": [
    "# Exercices"
   ]
  },
  {
   "cell_type": "markdown",
   "id": "a91b1ea0",
   "metadata": {},
   "source": [
    "## 1. Manipulation en `pandas`\n",
    "\n",
    "Le fichier `worldcities` contient des informations au sujet de 42 905 villes.\n",
    "\n",
    "\n",
    "- 1. \n",
    " - a. Pour chaque pays, trouver la ville la plus peuplée. Afficher le résultat dans une `Serie` ayant en index le nom du pays.\n",
    " - b. Pour chaque pays, calculer le nombre de villes ayant une population supérieure à la moitié de la population de la ville la plus peuplée du pays.\n",
    " \n",
    "- 2. \n",
    " - a. Quel est le pays ayant le plus de valeurs manquantes pour la variable population ?\n",
    " - b. Quel est le pourcentage de lignes ayant au moins une valeur manquante ?\n",
    "\n",
    "\n",
    "- 3. \n",
    " - a. Observer l'output de la méthode `.describe` de `pandas`\n",
    " - b. Expliquer en Français en découpant en étapes simples, calculer la DataFrame qui est l'output de cette méthode\n",
    " - c. Faire de même en SQL\n",
    " - d. Écrire une fonction `describe` qui prend en argument une DataFrame et renvoie le même résultat que la méthode `describe`\n",
    "\n",
    "- 4. \n",
    " - a. À l'aide d'une recherche sur StackOverflow, écrire une fonction `distance_on_globe` qui prend en argument deux points sur le globe (ie deuxcouples de latitude longitude) et qui renvoie la distance en km entre ces deux points\n",
    " - b. Quelle est la distance moyenne entre Paris et les villes Allemandes ? \n",
    "\n",
    "- 5. \n",
    " - a. Créer une variable `population_group` qui correspond à un groupe de population  : \n",
    "     - entre 0 et 250_000 habitants\n",
    "     - entre 250_001 et 500_000 habitants\n",
    "     - ...\n",
    "     - entre 1_750_001 et 2_000_000 habitants\n",
    "     - Plus de 2_000_001 habitants\n",
    "    \n",
    " - b. Pour chaque pays, calculer le groupe qui compte le plus de villes\n",
    " \n",
    " \n",
    "- 6. \n",
    " - a. Créer une variable `population_group_2` qui correspond à un groupe de population : \n",
    "     - les 10% villes les moins peuplées\n",
    "     - les 10% suivant\n",
    "     - ...\n",
    "     - les 10% villes les plus peuplées \n",
    "(il y a 10 groupes)\n",
    " \n",
    " - b. Quelle est la population minimale des 10% villes les plus peuplées ?\n",
    " \n",
    " - c. Tracer un diagramme en baton avec en abscisse le numéro du groupe et en ordonnée la population minimale du groupe"
   ]
  },
  {
   "cell_type": "code",
   "execution_count": 1,
   "id": "8d2767eb",
   "metadata": {},
   "outputs": [
    {
     "ename": "NameError",
     "evalue": "name 'pd' is not defined",
     "output_type": "error",
     "traceback": [
      "\u001b[0;31m---------------------------------------------------------------------------\u001b[0m",
      "\u001b[0;31mNameError\u001b[0m                                 Traceback (most recent call last)",
      "Input \u001b[0;32mIn [1]\u001b[0m, in \u001b[0;36m<module>\u001b[0;34m\u001b[0m\n\u001b[0;32m----> 1\u001b[0m df \u001b[38;5;241m=\u001b[39m \u001b[43mpd\u001b[49m\u001b[38;5;241m.\u001b[39mread_csv(\u001b[38;5;124m\"\u001b[39m\u001b[38;5;124m../data/simplemaps/worldcities.csv\u001b[39m\u001b[38;5;124m\"\u001b[39m)\n",
      "\u001b[0;31mNameError\u001b[0m: name 'pd' is not defined"
     ]
    }
   ],
   "source": [
    "df = pd.read_csv(\"../data/simplemaps/worldcities.csv\")\n",
    "# df[[\"city\", \"population\"]]"
   ]
  },
  {
   "cell_type": "code",
   "execution_count": 4,
   "id": "618ed5b3",
   "metadata": {},
   "outputs": [],
   "source": [
    "import numpy as np\n",
    "import pandas as pd"
   ]
  },
  {
   "cell_type": "code",
   "execution_count": 7,
   "id": "abdc5150",
   "metadata": {},
   "outputs": [
    {
     "data": {
      "text/html": [
       "<div>\n",
       "<style scoped>\n",
       "    .dataframe tbody tr th:only-of-type {\n",
       "        vertical-align: middle;\n",
       "    }\n",
       "\n",
       "    .dataframe tbody tr th {\n",
       "        vertical-align: top;\n",
       "    }\n",
       "\n",
       "    .dataframe thead th {\n",
       "        text-align: right;\n",
       "    }\n",
       "</style>\n",
       "<table border=\"1\" class=\"dataframe\">\n",
       "  <thead>\n",
       "    <tr style=\"text-align: right;\">\n",
       "      <th></th>\n",
       "      <th>col1</th>\n",
       "      <th>col1_cut</th>\n",
       "    </tr>\n",
       "  </thead>\n",
       "  <tbody>\n",
       "    <tr>\n",
       "      <th>0</th>\n",
       "      <td>1</td>\n",
       "      <td>(0.994, 3.0]</td>\n",
       "    </tr>\n",
       "    <tr>\n",
       "      <th>1</th>\n",
       "      <td>7</td>\n",
       "      <td>(5.0, 7.0]</td>\n",
       "    </tr>\n",
       "    <tr>\n",
       "      <th>2</th>\n",
       "      <td>5</td>\n",
       "      <td>(3.0, 5.0]</td>\n",
       "    </tr>\n",
       "    <tr>\n",
       "      <th>3</th>\n",
       "      <td>4</td>\n",
       "      <td>(3.0, 5.0]</td>\n",
       "    </tr>\n",
       "    <tr>\n",
       "      <th>4</th>\n",
       "      <td>6</td>\n",
       "      <td>(5.0, 7.0]</td>\n",
       "    </tr>\n",
       "    <tr>\n",
       "      <th>5</th>\n",
       "      <td>3</td>\n",
       "      <td>(0.994, 3.0]</td>\n",
       "    </tr>\n",
       "  </tbody>\n",
       "</table>\n",
       "</div>"
      ],
      "text/plain": [
       "   col1      col1_cut\n",
       "0     1  (0.994, 3.0]\n",
       "1     7    (5.0, 7.0]\n",
       "2     5    (3.0, 5.0]\n",
       "3     4    (3.0, 5.0]\n",
       "4     6    (5.0, 7.0]\n",
       "5     3  (0.994, 3.0]"
      ]
     },
     "execution_count": 7,
     "metadata": {},
     "output_type": "execute_result"
    }
   ],
   "source": [
    "df = pd.DataFrame({\"col1\": np.array([1, 7, 5, 4, 6, 3])})\n",
    "df[\"col1_cut\"] = pd.cut(df.col1, 3)\n",
    "df"
   ]
  },
  {
   "cell_type": "markdown",
   "id": "0f386414",
   "metadata": {},
   "source": [
    "### Question 1.a."
   ]
  },
  {
   "cell_type": "markdown",
   "id": "071f3e3e",
   "metadata": {},
   "source": [
    "### Question 1.b"
   ]
  },
  {
   "cell_type": "markdown",
   "id": "d32cd3ba",
   "metadata": {},
   "source": [
    "### Question 2.b"
   ]
  },
  {
   "cell_type": "markdown",
   "id": "6951f8bf",
   "metadata": {},
   "source": [
    "### Question 3.\n",
    "- `.describe` renvoie des statistiques (**uniquement**) pour les variables quantitatives\n",
    "    - `count` : le nombre de valeurs non nulles\n",
    "    - `mean` : la moyenne des valeurs non nulles \n",
    "    - `std` : l'écart type (standard deviation) des valeurs non nulles\n",
    "    - `min` : le min des valeurs non nulles\n",
    "    - `25%` : le premier quartile des valeurs non nulles\n",
    "    - `50%` : le deuxieme quartile des valeurs non nulles\n",
    "    - `75%` : le troisieme quartile des valeurs non nulles\n",
    "    - `max` : le min des valeurs non nulles\n"
   ]
  },
  {
   "cell_type": "markdown",
   "id": "f8562920",
   "metadata": {},
   "source": [
    "### Question 4\n",
    "- from : https://stackoverflow.com/questions/19412462/getting-distance-between-two-points-based-on-latitude-longitude"
   ]
  },
  {
   "cell_type": "markdown",
   "id": "43bffa4a",
   "metadata": {},
   "source": [
    "### Question 5.a & 6.a"
   ]
  },
  {
   "cell_type": "markdown",
   "id": "d19c337e",
   "metadata": {},
   "source": [
    "## 2. Régression linéaire simple : comparaison\n",
    "L'objectif est de comparer trois implémentations de la régression linéaire : \n",
    "- une en utilisant `sklearn` (>='1.0.2')\n",
    "- une en utilisant `statsmodels` (>='0.13.2')\n",
    "- l'une en calculant les coefficients \"à la main\" \n",
    "\n",
    "\n",
    "On a généré ci-dessous un nuage de points, on a représenté $Y$ en fonction de $X$.\n",
    "\n",
    "L'objectif de la régression linéaire simple sans intercepte est de trouver deux coefficients $a$ et $b$ tels que :\n",
    "\n",
    "$$ Y = ax  + err $$\n",
    "\n",
    "\n",
    "L'objectif de la régression linéaire simple avec intercepte est de trouver deux coefficients $a$ et $b$ tels que :\n",
    "\n",
    "$$ Y = ax + b + err $$\n",
    "\n",
    "\n",
    "1. Entraîner un modèle de régression linéaire entre $x$ et $y$ avec `scikit-learn`\n",
    "2. Entraîner un modèle de régression linéaire entre $x$ et $y$ avec `statsmodels` (on pourra s'aider de StackoVerflow)\n",
    "3. Entraîner un modèle de régression linéaire entre $x$ et $y$ en remarquant que le coefficient $a$ est égale à $\\frac{Cov(X, Y)}{Var(X}$ (on pourra chercher comment calculer la covariance et la variance en `pandas` ou `numpy`).\n",
    "4. Créer une colonne `y_pred` qui contient les prédictions pour toutes les données à disposition"
   ]
  },
  {
   "cell_type": "markdown",
   "id": "a0b52e8b",
   "metadata": {},
   "source": [
    "## 3. Git\n",
    "\n",
    "1. Créer un repository vide sous le nom de `projet_data_<numero_du_groupe>` \n",
    "2. Ajouter l'utilisateur `Selimmmm` (il y a 4 m).\n",
    "3. Ajouter le notebook suivant dans un dossier exercice et pousser sur la branche remote\n",
    "4. Ajouter l'URL complète du repository de votre groupe : \n",
    "    - https://docs.google.com/spreadsheets/d/18WxnG-luwRS6C-djbpl-gTyQgorBaQLqBdLq2nGiPLY/edit#gid=0"
   ]
  },
  {
   "cell_type": "markdown",
   "id": "068270d9",
   "metadata": {},
   "source": [
    "## 4. Manipulation data avec `SQL` (ou `MongoDb`)\n",
    "\n",
    "On reprend la situation de l'exercice 2.\n",
    "\n",
    "**Il faut au préalable :**\n",
    "- avoir créé un compte sur Scalingo\n",
    "- avoir provisionné une app sur Scalingo\n",
    "- avoir provisionné en addon une base SQL (ou MongoDB) avec le plan Starter (gratuit)\n",
    "- avoir activé l'option 'Internet Accessibility' (sinon pas d'accessibilité hors réseau interne Scalingo)\n",
    "\n",
    "1. Pour le modèle de votre choix, créer une DataFrame qui contient en colonnes `x`, `y` et `y_pred` et insérer les données dans une table SQL / une collection MongoDB sur Scalingo (la table / la collection doit être distante). On pourra utiliser `pandas.to_sql`\n",
    "\n",
    "2. Lire les données de la table créée. On pourra utiliser `pd.read_sql`"
   ]
  },
  {
   "cell_type": "code",
   "execution_count": 120,
   "id": "27218078",
   "metadata": {},
   "outputs": [
    {
     "name": "stdout",
     "output_type": "stream",
     "text": [
      "Name: SQLAlchemy\n",
      "Version: 1.3.22\n",
      "Summary: Database Abstraction Library\n",
      "Home-page: http://www.sqlalchemy.org\n",
      "Author: Mike Bayer\n",
      "Author-email: mike_mp@zzzcomputing.com\n",
      "License: MIT\n",
      "Location: /usr/local/lib/python3.9/site-packages\n",
      "Requires: \n",
      "Required-by: \n"
     ]
    }
   ],
   "source": [
    "!pip3 show sqlalchemy"
   ]
  },
  {
   "cell_type": "code",
   "execution_count": null,
   "id": "2692de46",
   "metadata": {},
   "outputs": [],
   "source": []
  }
 ],
 "metadata": {
  "kernelspec": {
   "display_name": "Python 3 (ipykernel)",
   "language": "python",
   "name": "python3"
  },
  "language_info": {
   "codemirror_mode": {
    "name": "ipython",
    "version": 3
   },
   "file_extension": ".py",
   "mimetype": "text/x-python",
   "name": "python",
   "nbconvert_exporter": "python",
   "pygments_lexer": "ipython3",
   "version": "3.9.7"
  }
 },
 "nbformat": 4,
 "nbformat_minor": 5
}
