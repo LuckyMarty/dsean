{
 "cells": [
  {
   "cell_type": "code",
   "execution_count": 22,
   "id": "25525bbe",
   "metadata": {},
   "outputs": [
    {
     "name": "stdout",
     "output_type": "stream",
     "text": [
      "1\n",
      "2\n",
      "3\n",
      "4\n",
      "5\n",
      "6\n"
     ]
    }
   ],
   "source": [
    "# List comprehension & list flattening\n",
    "\n",
    "l = [\n",
    "    [1, 2, 3],\n",
    "    [4, 5, 6]\n",
    "]\n",
    "\n",
    "\n",
    "[\n",
    "    sublist \n",
    "    for sublist in l \n",
    "]\n",
    "\n",
    "\n",
    "[\n",
    "    item\n",
    "    for sublist in l \n",
    "    for item  in sublist\n",
    "]\n",
    "\n",
    "\n",
    "for sublist in l:\n",
    "    for item in sublist:\n",
    "        print(item)\n",
    "\n",
    "#[1, 2, 3, 4, 5, 6]"
   ]
  },
  {
   "cell_type": "code",
   "execution_count": 38,
   "id": "afbcee1e",
   "metadata": {},
   "outputs": [
    {
     "name": "stdout",
     "output_type": "stream",
     "text": [
      "['Action', 'Adventure', 'Fantasy', 'Sci-Fi']\n"
     ]
    }
   ],
   "source": [
    "for genres in df[\"genres\"].tolist():\n",
    "    print(genres.split(\"|\"))\n",
    "    break \n",
    "    \n",
    "[\n",
    "    i\n",
    "    for i in range(1, 4)\n",
    "]"
   ]
  },
  {
   "cell_type": "code",
   "execution_count": null,
   "id": "222bb5cb",
   "metadata": {},
   "outputs": [],
   "source": []
  },
  {
   "cell_type": "code",
   "execution_count": null,
   "id": "f6ef4322",
   "metadata": {},
   "outputs": [],
   "source": []
  },
  {
   "cell_type": "code",
   "execution_count": 26,
   "id": "d48a4fed",
   "metadata": {},
   "outputs": [
    {
     "name": "stdout",
     "output_type": "stream",
     "text": [
      "8.2\n",
      "6.678571428571429\n"
     ]
    }
   ],
   "source": [
    "import pandas as pd\n",
    "\n",
    "df = pd.read_csv(\"../data/imdb/movie_metadata.csv\")\n",
    "\n",
    "\n",
    "\n",
    "# Question 1\n",
    "score_mean_per_dir = df.groupby(\"director_name\").imdb_score.mean()\n",
    "\n",
    "# Example d'accès à une valeur sur la base de l'id de la ligne\n",
    "print(score_mean_per_dir.loc[\"Quentin Tarantino\"])\n",
    "\n",
    "score_mean_per_dir.sort_values(ascending=False)[:10]\n",
    "\n",
    "\n",
    "# Question 2\n",
    "score_mean_per_country = df.groupby(\"country\").imdb_score.mean()\n",
    "# exemple\n",
    "print(score_mean_per_country.loc[\"France\"])\n",
    "score_mean_per_country.sort_values(ascending=False)[:10]\n",
    "\n",
    "\n",
    "# Question 2 (pour un seul genre)\n",
    "\n",
    "# Méthode 1 avec une lambda fonction\n",
    "df[\"Action\"] = df[\"genres\"].map(lambda string: \"Action\" in string.split(\"|\"))\n",
    "\n",
    "\n",
    "# Méthode 2 avec une fonction définie préalablement\n",
    "def has_action_in_genres(string):\n",
    "    return \"Action\" in string.split(\"|\")\n",
    "\n",
    "df[\"Action\"] = df[\"genres\"].map(has_action_in_genres)\n",
    "\n",
    "# Question 2 (pour tous les genres)\n",
    "\n",
    "# On crée la liste avec les sous listes de genres\n",
    "genres = [ \n",
    "    genres.split(\"|\")\n",
    "    for genres in df[\"genres\"].tolist()\n",
    "]\n",
    "\n",
    "# On flatten la liste\n",
    "genres = [\n",
    "    genre \n",
    "    for genres_sublist in genres\n",
    "    for genre in genres_sublist\n",
    "]\n",
    "\n",
    "# On récupère les valeurs\n",
    "genres = list(set(genres))\n",
    "\n",
    "for genre in genres:\n",
    "    df[genre] = df[\"genres\"].map(lambda string: genre in string.split(\"|\"))\n",
    "    \n",
    "df[genres].sum()"
   ]
  },
  {
   "cell_type": "code",
   "execution_count": 37,
   "id": "9fc2e3ee",
   "metadata": {},
   "outputs": [
    {
     "name": "stderr",
     "output_type": "stream",
     "text": [
      "/var/folders/yf/7zryq8v115v8hjpz3_522bvm0000gn/T/ipykernel_8041/3037608530.py:2: FutureWarning: Dropping of nuisance columns in DataFrame reductions (with 'numeric_only=None') is deprecated; in a future version this will raise TypeError.  Select only valid columns before calling the reduction.\n",
      "  df.sum()\n"
     ]
    },
    {
     "data": {
      "text/plain": [
       "num_critic_for_reviews                                                699990.0\n",
       "duration                                                              539007.0\n",
       "director_facebook_likes                                              3390669.0\n",
       "actor_3_facebook_likes                                               3237949.0\n",
       "actor_1_facebook_likes                                              33036397.0\n",
       "gross                                                           201580106904.0\n",
       "genres                       Action|Adventure|Fantasy|Sci-FiAction|Adventur...\n",
       "movie_title                  Avatar Pirates of the Caribbean: At World's En...\n",
       "num_voted_users                                                      421938535\n",
       "cast_total_facebook_likes                                             48912379\n",
       "facenumber_in_poster                                                    6897.0\n",
       "movie_imdb_link              http://www.imdb.com/title/tt0499549/?ref_=fn_t...\n",
       "num_user_for_reviews                                                 1369855.0\n",
       "budget                                                          180914175606.0\n",
       "title_year                                                           9882192.0\n",
       "actor_2_facebook_likes                                               8308325.0\n",
       "imdb_score                                                             32487.7\n",
       "aspect_ratio                                                          10466.98\n",
       "movie_facebook_likes                                                  37953439\n",
       "Action                                                                    1153\n",
       "Mystery                                                                    500\n",
       "Sci-Fi                                                                     616\n",
       "Film-Noir                                                                    6\n",
       "Documentary                                                                121\n",
       "Thriller                                                                  1411\n",
       "Adventure                                                                  923\n",
       "Animation                                                                  242\n",
       "Western                                                                     97\n",
       "Sport                                                                      182\n",
       "News                                                                         3\n",
       "Reality-TV                                                                   2\n",
       "Crime                                                                      889\n",
       "Musical                                                                    132\n",
       "War                                                                        213\n",
       "Horror                                                                     565\n",
       "Music                                                                      214\n",
       "Fantasy                                                                    610\n",
       "Short                                                                        5\n",
       "Drama                                                                     2594\n",
       "Biography                                                                  293\n",
       "Family                                                                     546\n",
       "History                                                                    207\n",
       "Comedy                                                                    1872\n",
       "Game-Show                                                                    1\n",
       "Romance                                                                   1107\n",
       "dtype: object"
      ]
     },
     "execution_count": 37,
     "metadata": {},
     "output_type": "execute_result"
    }
   ],
   "source": [
    "df[genres].sum()\n",
    "df.sum()"
   ]
  },
  {
   "cell_type": "code",
   "execution_count": 46,
   "id": "abcf4064",
   "metadata": {},
   "outputs": [
    {
     "name": "stdout",
     "output_type": "stream",
     "text": [
      "0     True\n",
      "1    False\n",
      "2    False\n",
      "dtype: bool\n",
      "0     True\n",
      "1     True\n",
      "2    False\n",
      "dtype: bool\n"
     ]
    }
   ],
   "source": [
    "print(pd.Series([True, True, False]) & pd.Series([True, False, False]))\n",
    "print(pd.Series([True, True, False]) | pd.Series([True, False, False]))"
   ]
  },
  {
   "cell_type": "code",
   "execution_count": 52,
   "id": "b38ee155",
   "metadata": {},
   "outputs": [
    {
     "data": {
      "text/plain": [
       "(0.6470588235294118, 56, 34)"
      ]
     },
     "execution_count": 52,
     "metadata": {},
     "output_type": "execute_result"
    }
   ],
   "source": [
    "# df.Action est déjà un booléen\n",
    "action_movies_2010 = df[(df.title_year==2010) & df.Action]\n",
    "action_movies_2000 = df[(df.title_year==2000) & df.Action]\n",
    "\n",
    "count_action_movies_2010 = len(action_movies_2010)\n",
    "count_action_movies_2000 = len(action_movies_2000)\n",
    "\n",
    "# Autre solution\n",
    "# count_action_movies_2010 = action_movies_2010.shape[0]\n",
    "# count_action_movies_2000 = action_movies_2000.shape[0]\n",
    "\n",
    "\n",
    "# Evolution en pourcent : (nouveau - ancien) / ancien\n",
    "# (moyen mnémotechnique : nouveau = (1+evol%) * ancien)\n",
    "count_action_evolution = (count_action_movies_2010 - count_action_movies_2000) / count_action_movies_2000\n",
    "count_action_evolution, count_action_movies_2010, count_action_movies_2000\n"
   ]
  },
  {
   "cell_type": "code",
   "execution_count": null,
   "id": "f28c4fbc",
   "metadata": {},
   "outputs": [],
   "source": [
    "def generate_random_price():\n",
    "    return np.random.choice(\n",
    "        [12, 14, 15, 16, 17, 18], \n",
    "        p=[0.4,0.05,0.1,0.05,0.2, 0.2]\n",
    "    )\n",
    "\n",
    "\n",
    "\n",
    "import datetime\n",
    "import random\n",
    "\n",
    "start_date = datetime.datetime(2022, 7, 1)\n",
    "end_date = datetime.datetime(2022, 12, 31)\n",
    "\n",
    "start_timestamp = start_date.timestamp()\n",
    "end_timestamp = end_date.timestamp()\n",
    "\n",
    "difference = end_timestamp - start_timestamp\n",
    "\n",
    "random_integer = random.randint(0, int(difference))\n",
    "random_date = datetime.datetime.fromtimestamp(start_timestamp + random_integer)\n",
    "\n",
    "print(random_date)"
   ]
  }
 ],
 "metadata": {
  "kernelspec": {
   "display_name": "Python 3 (ipykernel)",
   "language": "python",
   "name": "python3"
  },
  "language_info": {
   "codemirror_mode": {
    "name": "ipython",
    "version": 3
   },
   "file_extension": ".py",
   "mimetype": "text/x-python",
   "name": "python",
   "nbconvert_exporter": "python",
   "pygments_lexer": "ipython3",
   "version": "3.9.7"
  }
 },
 "nbformat": 4,
 "nbformat_minor": 5
}
