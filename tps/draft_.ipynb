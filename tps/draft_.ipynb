{
 "cells": [
  {
   "cell_type": "code",
   "execution_count": 2,
   "id": "ad22ef4b",
   "metadata": {},
   "outputs": [
    {
     "name": "stdout",
     "output_type": "stream",
     "text": [
      "1\n",
      "2\n",
      "3\n",
      "4\n",
      "5\n",
      "6\n"
     ]
    }
   ],
   "source": [
    "# List comprehension & list flattening\n",
    "\n",
    "l = [\n",
    "    [1, 2, 3],\n",
    "    [4, 5, 6]\n",
    "]\n",
    "\n",
    "\n",
    "[\n",
    "    sublist \n",
    "    for sublist in l \n",
    "]\n",
    "\n",
    "\n",
    "[\n",
    "    item\n",
    "    for sublist in l \n",
    "    for item  in sublist\n",
    "]\n",
    "\n",
    "\n",
    "for sublist in l:\n",
    "    for item in sublist:\n",
    "        print(item)\n",
    "\n",
    "#[1, 2, 3, 4, 5, 6]"
   ]
  },
  {
   "cell_type": "code",
   "execution_count": 3,
   "id": "36ff3b07",
   "metadata": {},
   "outputs": [
    {
     "ename": "NameError",
     "evalue": "name 'df' is not defined",
     "output_type": "error",
     "traceback": [
      "\u001b[0;31m---------------------------------------------------------------------------\u001b[0m",
      "\u001b[0;31mNameError\u001b[0m                                 Traceback (most recent call last)",
      "Input \u001b[0;32mIn [3]\u001b[0m, in \u001b[0;36m<module>\u001b[0;34m\u001b[0m\n\u001b[0;32m----> 1\u001b[0m \u001b[38;5;28;01mfor\u001b[39;00m genres \u001b[38;5;129;01min\u001b[39;00m \u001b[43mdf\u001b[49m[\u001b[38;5;124m\"\u001b[39m\u001b[38;5;124mgenres\u001b[39m\u001b[38;5;124m\"\u001b[39m]\u001b[38;5;241m.\u001b[39mtolist():\n\u001b[1;32m      2\u001b[0m     \u001b[38;5;28mprint\u001b[39m(genres\u001b[38;5;241m.\u001b[39msplit(\u001b[38;5;124m\"\u001b[39m\u001b[38;5;124m|\u001b[39m\u001b[38;5;124m\"\u001b[39m))\n\u001b[1;32m      3\u001b[0m     \u001b[38;5;28;01mbreak\u001b[39;00m \n",
      "\u001b[0;31mNameError\u001b[0m: name 'df' is not defined"
     ]
    }
   ],
   "source": [
    "for genres in df[\"genres\"].tolist():\n",
    "    print(genres.split(\"|\"))\n",
    "    break \n",
    "    \n",
    "[\n",
    "    i\n",
    "    for i in range(1, 4)\n",
    "]"
   ]
  },
  {
   "cell_type": "code",
   "execution_count": null,
   "id": "55e59725",
   "metadata": {},
   "outputs": [],
   "source": []
  },
  {
   "cell_type": "code",
   "execution_count": null,
   "id": "18a1d046",
   "metadata": {},
   "outputs": [],
   "source": []
  },
  {
   "cell_type": "code",
   "execution_count": 4,
   "id": "ead8d6df",
   "metadata": {},
   "outputs": [
    {
     "name": "stdout",
     "output_type": "stream",
     "text": [
      "8.2\n",
      "6.678571428571429\n"
     ]
    },
    {
     "data": {
      "text/plain": [
       "News              3\n",
       "War             213\n",
       "Romance        1107\n",
       "Horror          565\n",
       "Reality-TV        2\n",
       "Film-Noir         6\n",
       "Sport           182\n",
       "Adventure       923\n",
       "Sci-Fi          616\n",
       "Fantasy         610\n",
       "Family          546\n",
       "Mystery         500\n",
       "History         207\n",
       "Drama          2594\n",
       "Animation       242\n",
       "Western          97\n",
       "Game-Show         1\n",
       "Thriller       1411\n",
       "Short             5\n",
       "Biography       293\n",
       "Action         1153\n",
       "Comedy         1872\n",
       "Music           214\n",
       "Documentary     121\n",
       "Crime           889\n",
       "Musical         132\n",
       "dtype: int64"
      ]
     },
     "execution_count": 4,
     "metadata": {},
     "output_type": "execute_result"
    }
   ],
   "source": [
    "import pandas as pd\n",
    "\n",
    "df = pd.read_csv(\"../data/imdb/movie_metadata.csv\")\n",
    "\n",
    "\n",
    "\n",
    "# Question 1\n",
    "score_mean_per_dir = df.groupby(\"director_name\").imdb_score.mean()\n",
    "\n",
    "# Example d'accès à une valeur sur la base de l'id de la ligne\n",
    "print(score_mean_per_dir.loc[\"Quentin Tarantino\"])\n",
    "\n",
    "score_mean_per_dir.sort_values(ascending=False)[:10]\n",
    "\n",
    "\n",
    "# Question 2\n",
    "score_mean_per_country = df.groupby(\"country\").imdb_score.mean()\n",
    "# exemple\n",
    "print(score_mean_per_country.loc[\"France\"])\n",
    "score_mean_per_country.sort_values(ascending=False)[:10]\n",
    "\n",
    "\n",
    "# Question 2 (pour un seul genre)\n",
    "\n",
    "# Méthode 1 avec une lambda fonction\n",
    "df[\"Action\"] = df[\"genres\"].map(lambda string: \"Action\" in string.split(\"|\"))\n",
    "\n",
    "\n",
    "# Méthode 2 avec une fonction définie préalablement\n",
    "def has_action_in_genres(string):\n",
    "    return \"Action\" in string.split(\"|\")\n",
    "\n",
    "df[\"Action\"] = df[\"genres\"].map(has_action_in_genres)\n",
    "\n",
    "# Question 2 (pour tous les genres)\n",
    "\n",
    "# On crée la liste avec les sous listes de genres\n",
    "genres = [ \n",
    "    genres.split(\"|\")\n",
    "    for genres in df[\"genres\"].tolist()\n",
    "]\n",
    "\n",
    "# On flatten la liste\n",
    "genres = [\n",
    "    genre \n",
    "    for genres_sublist in genres\n",
    "    for genre in genres_sublist\n",
    "]\n",
    "\n",
    "# On récupère les valeurs\n",
    "genres = list(set(genres))\n",
    "\n",
    "for genre in genres:\n",
    "    df[genre] = df[\"genres\"].map(lambda string: genre in string.split(\"|\"))\n",
    "    \n",
    "df[genres].sum()"
   ]
  },
  {
   "cell_type": "code",
   "execution_count": 5,
   "id": "bc36933f",
   "metadata": {},
   "outputs": [
    {
     "name": "stderr",
     "output_type": "stream",
     "text": [
      "/var/folders/yf/7zryq8v115v8hjpz3_522bvm0000gn/T/ipykernel_1627/3037608530.py:2: FutureWarning: Dropping of nuisance columns in DataFrame reductions (with 'numeric_only=None') is deprecated; in a future version this will raise TypeError.  Select only valid columns before calling the reduction.\n",
      "  df.sum()\n"
     ]
    },
    {
     "data": {
      "text/plain": [
       "num_critic_for_reviews                                                699990.0\n",
       "duration                                                              539007.0\n",
       "director_facebook_likes                                              3390669.0\n",
       "actor_3_facebook_likes                                               3237949.0\n",
       "actor_1_facebook_likes                                              33036397.0\n",
       "gross                                                           201580106904.0\n",
       "genres                       Action|Adventure|Fantasy|Sci-FiAction|Adventur...\n",
       "movie_title                  Avatar Pirates of the Caribbean: At World's En...\n",
       "num_voted_users                                                      421938535\n",
       "cast_total_facebook_likes                                             48912379\n",
       "facenumber_in_poster                                                    6897.0\n",
       "movie_imdb_link              http://www.imdb.com/title/tt0499549/?ref_=fn_t...\n",
       "num_user_for_reviews                                                 1369855.0\n",
       "budget                                                          180914175606.0\n",
       "title_year                                                           9882192.0\n",
       "actor_2_facebook_likes                                               8308325.0\n",
       "imdb_score                                                             32487.7\n",
       "aspect_ratio                                                          10466.98\n",
       "movie_facebook_likes                                                  37953439\n",
       "Action                                                                    1153\n",
       "News                                                                         3\n",
       "War                                                                        213\n",
       "Romance                                                                   1107\n",
       "Horror                                                                     565\n",
       "Reality-TV                                                                   2\n",
       "Film-Noir                                                                    6\n",
       "Sport                                                                      182\n",
       "Adventure                                                                  923\n",
       "Sci-Fi                                                                     616\n",
       "Fantasy                                                                    610\n",
       "Family                                                                     546\n",
       "Mystery                                                                    500\n",
       "History                                                                    207\n",
       "Drama                                                                     2594\n",
       "Animation                                                                  242\n",
       "Western                                                                     97\n",
       "Game-Show                                                                    1\n",
       "Thriller                                                                  1411\n",
       "Short                                                                        5\n",
       "Biography                                                                  293\n",
       "Comedy                                                                    1872\n",
       "Music                                                                      214\n",
       "Documentary                                                                121\n",
       "Crime                                                                      889\n",
       "Musical                                                                    132\n",
       "dtype: object"
      ]
     },
     "execution_count": 5,
     "metadata": {},
     "output_type": "execute_result"
    }
   ],
   "source": [
    "df[genres].sum()\n",
    "df.sum()"
   ]
  },
  {
   "cell_type": "code",
   "execution_count": 6,
   "id": "23299d52",
   "metadata": {},
   "outputs": [
    {
     "name": "stdout",
     "output_type": "stream",
     "text": [
      "0     True\n",
      "1    False\n",
      "2    False\n",
      "dtype: bool\n",
      "0     True\n",
      "1     True\n",
      "2    False\n",
      "dtype: bool\n"
     ]
    }
   ],
   "source": [
    "print(pd.Series([True, True, False]) & pd.Series([True, False, False]))\n",
    "print(pd.Series([True, True, False]) | pd.Series([True, False, False]))"
   ]
  },
  {
   "cell_type": "code",
   "execution_count": 23,
   "id": "fb9d7c98",
   "metadata": {},
   "outputs": [
    {
     "data": {
      "text/plain": [
       "0     True\n",
       "1     True\n",
       "2    False\n",
       "3    False\n",
       "Name: col_2, dtype: bool"
      ]
     },
     "execution_count": 23,
     "metadata": {},
     "output_type": "execute_result"
    }
   ],
   "source": [
    "test = pd.DataFrame(\n",
    "    [\n",
    "        [\"A\", 1],\n",
    "        [\"B\", 1],\n",
    "        [\"B\", 2],\n",
    "        [\"C\", 2]\n",
    "    ]\n",
    ")\n",
    "test.columns = [\"col_1\", \"col_2\"]\n",
    "# test[test.col_1 == \"B\"]\n",
    "# test.col_1 == \"B\"\n",
    "\n",
    "test.col_1[test.col_2 ==1]"
   ]
  },
  {
   "cell_type": "code",
   "execution_count": 9,
   "id": "44d8e3a7",
   "metadata": {},
   "outputs": [
    {
     "name": "stdout",
     "output_type": "stream",
     "text": [
      "No movies for genre News in 2000\n",
      "War 250.0 %\n",
      "Romance 40.91 %\n",
      "Horror 62.5 %\n",
      "No movies for genre Reality-TV in 2000\n",
      "No movies for genre Film-Noir in 2000\n",
      "Sport -44.44 %\n",
      "Adventure 19.35 %\n",
      "Sci-Fi 10.53 %\n",
      "Fantasy 89.47 %\n",
      "Family 78.95 %\n",
      "Mystery 28.57 %\n",
      "History 250.0 %\n",
      "Drama 30.34 %\n",
      "Animation 30.0 %\n",
      "Western 50.0 %\n",
      "No movies for genre Game-Show in 2000\n",
      "Thriller 27.66 %\n",
      "No movies for genre Short in 2000\n",
      "Biography 57.14 %\n",
      "Action 64.71 %\n",
      "Comedy 26.67 %\n",
      "Music -30.0 %\n",
      "Documentary 250.0 %\n",
      "Crime -16.67 %\n",
      "Musical 100.0 %\n"
     ]
    }
   ],
   "source": [
    "for genre in genres:\n",
    "    movies_2010 = df[(df.title_year==2010) & df[genre]]\n",
    "    movies_2000 = df[(df.title_year==2000) & df[genre]]\n",
    "\n",
    "    count_movies_2010 = len(movies_2010)\n",
    "    count_movies_2000 = len(movies_2000)\n",
    "    \n",
    "    if count_movies_2000 ==0:\n",
    "        print(f\"No movies for genre {genre} in 2000\")\n",
    "        continue\n",
    "\n",
    "    # Autre solution\n",
    "    # count_action_movies_2010 = action_movies_2010.shape[0]\n",
    "    # count_action_movies_2000 = action_movies_2000.shape[0]\n",
    "\n",
    "    # Evolution en pourcent : (nouveau - ancien) / ancien\n",
    "    # (moyen mnémotechnique : nouveau = (1+evol%) * ancien)\n",
    "    count_evolution = (count_movies_2010 - count_movies_2000) / count_movies_2000\n",
    "    print(genre, round(count_evolution * 100, 2), \"%\")"
   ]
  },
  {
   "cell_type": "code",
   "execution_count": null,
   "id": "64f00b58",
   "metadata": {},
   "outputs": [],
   "source": [
    "def generate_random_price():\n",
    "    return np.random.choice(\n",
    "        [12, 14, 15, 16, 17, 18], \n",
    "        p=[0.4,0.05,0.1,0.05,0.2, 0.2]\n",
    "    )\n",
    "\n",
    "\n",
    "\n",
    "import datetime\n",
    "import random\n",
    "\n",
    "start_date = datetime.datetime(2022, 7, 1)\n",
    "end_date = datetime.datetime(2022, 12, 31)\n",
    "\n",
    "start_timestamp = start_date.timestamp()\n",
    "end_timestamp = end_date.timestamp()\n",
    "\n",
    "difference = end_timestamp - start_timestamp\n",
    "\n",
    "random_integer = random.randint(0, int(difference))\n",
    "random_date = datetime.datetime.fromtimestamp(start_timestamp + random_integer)\n",
    "\n",
    "print(random_date)"
   ]
  }
 ],
 "metadata": {
  "kernelspec": {
   "display_name": "Python 3 (ipykernel)",
   "language": "python",
   "name": "python3"
  },
  "language_info": {
   "codemirror_mode": {
    "name": "ipython",
    "version": 3
   },
   "file_extension": ".py",
   "mimetype": "text/x-python",
   "name": "python",
   "nbconvert_exporter": "python",
   "pygments_lexer": "ipython3",
   "version": "3.9.7"
  }
 },
 "nbformat": 4,
 "nbformat_minor": 5
}
