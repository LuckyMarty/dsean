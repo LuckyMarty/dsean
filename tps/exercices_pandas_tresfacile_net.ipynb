{
 "cells": [
  {
   "cell_type": "markdown",
   "id": "51e17825",
   "metadata": {},
   "source": [
    "- https://www.tresfacile.net/exercices-sur-la-bibliotheques-pandas-python/"
   ]
  },
  {
   "cell_type": "code",
   "execution_count": 1,
   "id": "53bf0f86",
   "metadata": {},
   "outputs": [],
   "source": [
    "import pandas as pd\n",
    "import numpy as np"
   ]
  },
  {
   "cell_type": "markdown",
   "id": "f704c1cd",
   "metadata": {},
   "source": [
    "#### Exercice 1"
   ]
  },
  {
   "cell_type": "code",
   "execution_count": 120,
   "id": "2f878a16",
   "metadata": {},
   "outputs": [
    {
     "data": {
      "text/html": [
       "<div>\n",
       "<style scoped>\n",
       "    .dataframe tbody tr th:only-of-type {\n",
       "        vertical-align: middle;\n",
       "    }\n",
       "\n",
       "    .dataframe tbody tr th {\n",
       "        vertical-align: top;\n",
       "    }\n",
       "\n",
       "    .dataframe thead th {\n",
       "        text-align: right;\n",
       "    }\n",
       "</style>\n",
       "<table border=\"1\" class=\"dataframe\">\n",
       "  <thead>\n",
       "    <tr style=\"text-align: right;\">\n",
       "      <th></th>\n",
       "      <th>name</th>\n",
       "      <th>email</th>\n",
       "      <th>section</th>\n",
       "    </tr>\n",
       "  </thead>\n",
       "  <tbody>\n",
       "    <tr>\n",
       "      <th>1</th>\n",
       "      <td>Albert</td>\n",
       "      <td>albert@gmail.com</td>\n",
       "      <td>SVT</td>\n",
       "    </tr>\n",
       "    <tr>\n",
       "      <th>2</th>\n",
       "      <td>Nathalie</td>\n",
       "      <td>nathalie@gmail.com</td>\n",
       "      <td>Sc Eco</td>\n",
       "    </tr>\n",
       "    <tr>\n",
       "      <th>3</th>\n",
       "      <td>Robert</td>\n",
       "      <td>robert@gmail.com</td>\n",
       "      <td>Maths</td>\n",
       "    </tr>\n",
       "  </tbody>\n",
       "</table>\n",
       "</div>"
      ],
      "text/plain": [
       "       name               email section\n",
       "1    Albert    albert@gmail.com     SVT\n",
       "2  Nathalie  nathalie@gmail.com  Sc Eco\n",
       "3    Robert    robert@gmail.com   Maths"
      ]
     },
     "execution_count": 120,
     "metadata": {},
     "output_type": "execute_result"
    }
   ],
   "source": [
    "data = [\n",
    "    [\"Albert\", \"albert@gmail.com\", \"SVT\"],\n",
    "    [\"Nathalie\", \"nathalie@gmail.com\", \"Sc Eco\"],\n",
    "    [\"Robert\", \"robert@gmail.com\", \"Maths\"],\n",
    "]\n",
    "\n",
    "df = pd.DataFrame(data, columns=[\"name\", \"email\", \"section\"])\n",
    "df[\"id\"] = range(1, len(df)+1)\n",
    "\n",
    "# Ou si ID en index\n",
    "df = pd.DataFrame(data, columns=[\"name\", \"email\", \"section\"])\n",
    "df.index = range(1, len(df)+1)\n",
    "df"
   ]
  },
  {
   "cell_type": "markdown",
   "id": "f92d0241",
   "metadata": {},
   "source": [
    "#### Exercice 2"
   ]
  },
  {
   "cell_type": "code",
   "execution_count": 121,
   "id": "d189a061",
   "metadata": {},
   "outputs": [
    {
     "name": "stdout",
     "output_type": "stream",
     "text": [
      "Python\n",
      "Python\n"
     ]
    }
   ],
   "source": [
    "data = pd.Series(['P', 'y', 't', 'h', 'o' , 'n'])\n",
    "print(data.sum())\n",
    "\n",
    "# Ou\n",
    "print(\"\".join(data.tolist()))"
   ]
  },
  {
   "cell_type": "markdown",
   "id": "d83eaaf3",
   "metadata": {},
   "source": [
    "#### Exercice 3"
   ]
  },
  {
   "cell_type": "code",
   "execution_count": 122,
   "id": "c8e609ac",
   "metadata": {},
   "outputs": [
    {
     "name": "stdout",
     "output_type": "stream",
     "text": [
      "0     Python\n",
      "1     Djnago\n",
      "2    Tkinter\n",
      "3       PyQt\n",
      "dtype: object\n",
      "0     Python\n",
      "1     Djnago\n",
      "2    Tkinter\n",
      "3       PyQt\n",
      "dtype: object\n",
      "0     Python\n",
      "1     Djnago\n",
      "2    Tkinter\n",
      "3       PyQt\n",
      "dtype: object\n"
     ]
    }
   ],
   "source": [
    "serie = pd.Series(['Python' , 'Djnago' , 'Tkinter' , 'PyQt' , 'numpy'])\n",
    "print(serie.iloc[:-1])\n",
    "\n",
    "# Ou\n",
    "print(serie.drop(len(serie)-1))\n",
    "\n",
    "# Ou\n",
    "print(serie.head(len(serie)-1))\n"
   ]
  },
  {
   "cell_type": "markdown",
   "id": "a8843c51",
   "metadata": {},
   "source": [
    "#### Exercice 4"
   ]
  },
  {
   "cell_type": "code",
   "execution_count": 123,
   "id": "1ea51837",
   "metadata": {},
   "outputs": [
    {
     "name": "stdout",
     "output_type": "stream",
     "text": [
      "1    Djnago\n",
      "3      PyQt\n",
      "dtype: object\n",
      "1    Djnago\n",
      "3      PyQt\n",
      "dtype: object\n"
     ]
    },
    {
     "data": {
      "text/plain": [
       "1    Djnago\n",
       "3      PyQt\n",
       "dtype: object"
      ]
     },
     "execution_count": 123,
     "metadata": {},
     "output_type": "execute_result"
    }
   ],
   "source": [
    "serie = pd.Series(['Python' , 'Djnago' , 'Tkinter' , 'PyQt' , 'numpy'])\n",
    "idx_even = [idx for idx in serie.index if idx%2==0]\n",
    "print(serie.drop(idx_even))\n",
    "\n",
    "\n",
    "\n",
    "\n",
    "\n",
    "# A \"eviter\" (car on boucle à l'exterieur)\n",
    "# et de plus on peut donner une liste à drop\n",
    "serie = pd.Series(['Python' , 'Djnago' , 'Tkinter' , 'PyQt' , 'numpy'])\n",
    "for idx in serie.index:\n",
    "    if idx % 2 == 0:\n",
    "        serie = serie.drop(idx)\n",
    "print(serie)\n",
    "\n",
    "\n",
    "# Ou\n",
    "serie = pd.Series(['Python' , 'Djnago' , 'Tkinter' , 'PyQt' , 'numpy'])\n",
    "# On garde les impaires\n",
    "mask = serie.index % 2 == 1\n",
    "serie = serie[mask]\n",
    "\n",
    "\n",
    "\n",
    "# Ou (similaire mais dans l'autre sens)\n",
    "serie = pd.Series(['Python' , 'Djnago' , 'Tkinter' , 'PyQt' , 'numpy'])\n",
    "# On garde les impaires\n",
    "exclusion_mask = serie.index % 2 == 0\n",
    "# ~exclusion_mask = le contraire de exlusion_mask \n",
    "# (composante par composante)\n",
    "serie = serie[~exclusion_mask]\n",
    "serie"
   ]
  },
  {
   "cell_type": "markdown",
   "id": "0fd3208a",
   "metadata": {},
   "source": [
    "#### Exercice 5"
   ]
  },
  {
   "cell_type": "code",
   "execution_count": 124,
   "id": "197b34df",
   "metadata": {},
   "outputs": [
    {
     "data": {
      "text/plain": [
       "0        python\n",
       "1          Java\n",
       "2           PHP\n",
       "3    Javascript\n",
       "4           C++\n",
       "dtype: object"
      ]
     },
     "execution_count": 124,
     "metadata": {},
     "output_type": "execute_result"
    }
   ],
   "source": [
    "l = ['python' , 'Java' , 'PHP', 'Javascript' , 'C++']\n",
    "pd.Series(l)"
   ]
  },
  {
   "cell_type": "markdown",
   "id": "c4793297",
   "metadata": {},
   "source": [
    "#### Exercice 6 et 7"
   ]
  },
  {
   "cell_type": "code",
   "execution_count": 125,
   "id": "0a2e8b24",
   "metadata": {},
   "outputs": [
    {
     "name": "stdout",
     "output_type": "stream",
     "text": [
      "['tomas@gmail.com', 'albert@gmail.com', 'nathalie@gmail.com', 'roberto@gmail.com', 'adam@gmail.com']\n"
     ]
    }
   ],
   "source": [
    "# liste des données\n",
    "data = [['Tomas' , 'tomas@gmail.com' , 'Math'], \n",
    "        ['Albert' ,'albert@gmail.com' , 'SVT' ],\n",
    "        ['Nathalie', 'nathalie@gmail.com' , 'Sc Eco'], \n",
    "        ['Roberto' ,'roberto@gmail.com' , 'Physique'],\n",
    "        ['Adam' , 'adam@gmail.com' , 'Info']]\n",
    "labels = [11 , 12, 13 , 14, 15]\n",
    " \n",
    "    \n",
    "# création du DataFrame\n",
    "df = pd.DataFrame(data , index=labels , columns=[ 'Name' , 'Email' , 'Section'])\n",
    " \n",
    "##################\n",
    "# Exercice 6\n",
    "##################\n",
    "\n",
    "# On supprime la colonne Section\n",
    "df = df.drop(\"Section\", axis=1)\n",
    "\n",
    "# On ajoute l'âge\n",
    "age_list = [ 22 , 23 , 21 , 20 , 25 ] \n",
    "df[\"Age\"] = age_list\n",
    "\n",
    "##################\n",
    "# Exercice 7\n",
    "##################\n",
    "\n",
    "print(df[\"Email\"].tolist())\n",
    "\n"
   ]
  },
  {
   "cell_type": "markdown",
   "id": "bd7ab08f",
   "metadata": {},
   "source": [
    "#### Exercice 8 / 9"
   ]
  },
  {
   "cell_type": "code",
   "execution_count": 126,
   "id": "a2f06b0b",
   "metadata": {},
   "outputs": [
    {
     "data": {
      "text/html": [
       "<div>\n",
       "<style scoped>\n",
       "    .dataframe tbody tr th:only-of-type {\n",
       "        vertical-align: middle;\n",
       "    }\n",
       "\n",
       "    .dataframe tbody tr th {\n",
       "        vertical-align: top;\n",
       "    }\n",
       "\n",
       "    .dataframe thead th {\n",
       "        text-align: right;\n",
       "    }\n",
       "</style>\n",
       "<table border=\"1\" class=\"dataframe\">\n",
       "  <thead>\n",
       "    <tr style=\"text-align: right;\">\n",
       "      <th></th>\n",
       "      <th>Age</th>\n",
       "      <th>Nom</th>\n",
       "    </tr>\n",
       "  </thead>\n",
       "  <tbody>\n",
       "    <tr>\n",
       "      <th>117</th>\n",
       "      <td>23</td>\n",
       "      <td>Isaac</td>\n",
       "    </tr>\n",
       "    <tr>\n",
       "      <th>235</th>\n",
       "      <td>22</td>\n",
       "      <td>Julia</td>\n",
       "    </tr>\n",
       "    <tr>\n",
       "      <th>155</th>\n",
       "      <td>21</td>\n",
       "      <td>Tiago</td>\n",
       "    </tr>\n",
       "    <tr>\n",
       "      <th>243</th>\n",
       "      <td>20</td>\n",
       "      <td>Charlie</td>\n",
       "    </tr>\n",
       "    <tr>\n",
       "      <th>311</th>\n",
       "      <td>20</td>\n",
       "      <td>Alba</td>\n",
       "    </tr>\n",
       "  </tbody>\n",
       "</table>\n",
       "</div>"
      ],
      "text/plain": [
       "     Age      Nom\n",
       "117   23    Isaac\n",
       "235   22    Julia\n",
       "155   21    Tiago\n",
       "243   20  Charlie\n",
       "311   20     Alba"
      ]
     },
     "execution_count": 126,
     "metadata": {},
     "output_type": "execute_result"
    }
   ],
   "source": [
    "dictData = {'ID' : [31, 71, 30 , 11 , 23] , \n",
    "            'Nom': ['Julia', 'Tiago', 'Charlie' , 'Alba' , 'Isaac'],  \n",
    "        'Age': [22, 21, 20, 20 , 23], \n",
    "        'Taille': [170, 190, 181 , 175 , 165]}\n",
    "# création du dataframe\n",
    "df = pd.DataFrame(dictData , index=[235 , 155 , 243 , 311 , 117])\n",
    "\n",
    "##################\n",
    "# Exercice 8\n",
    "##################\n",
    "\n",
    "df[[\"Age\", \"Nom\"]]\n",
    "\n",
    "##################\n",
    "# Exercice 9\n",
    "##################\n",
    "\n",
    "df[[\"Age\", \"Nom\"]].sort_values(\"Age\", ascending=False)\n"
   ]
  },
  {
   "cell_type": "markdown",
   "id": "20b4d8f3",
   "metadata": {},
   "source": [
    "#### Exercice 10"
   ]
  },
  {
   "cell_type": "code",
   "execution_count": 127,
   "id": "22a41060",
   "metadata": {},
   "outputs": [
    {
     "data": {
      "text/plain": [
       "[12, 7, 13, 22, 11, 2]"
      ]
     },
     "execution_count": 127,
     "metadata": {},
     "output_type": "execute_result"
    }
   ],
   "source": [
    "import numpy as np\n",
    "data = np.array (['P', 'y', 't', 'h', 'o' , 'n'])\n",
    "s = pd.Series(data , index=[12 , 7 , 13 , 22 , 11 , 2])\n",
    "s.index.tolist()"
   ]
  },
  {
   "cell_type": "markdown",
   "id": "5ea928d4",
   "metadata": {},
   "source": [
    "#### Exercice 11"
   ]
  },
  {
   "cell_type": "code",
   "execution_count": 128,
   "id": "8450c683",
   "metadata": {},
   "outputs": [
    {
     "name": "stdout",
     "output_type": "stream",
     "text": [
      "0    43\n",
      "1     0\n",
      "2    79\n",
      "3    37\n",
      "4     0\n",
      "5    34\n",
      "dtype: int64\n",
      "0    43\n",
      "1     0\n",
      "2    79\n",
      "3    37\n",
      "4     0\n",
      "5    34\n",
      "dtype: int64\n",
      "0    43\n",
      "1     0\n",
      "2    79\n",
      "3    37\n",
      "4     0\n",
      "5    34\n",
      "dtype: int64\n"
     ]
    }
   ],
   "source": [
    "data = np.array ([43 , -25 , 79  ,  37 , -22  , 34 ])\n",
    "s = pd.Series(data)\n",
    "s = s.map(lambda x: x if x > 0 else 0)\n",
    "print(s)\n",
    "\n",
    "# OU Fonctionne mais pas hyper explicite\n",
    "# au sujet de la modification en place\n",
    "data = np.array ([43 , -25 , 79  ,  37 , -22  , 34 ])\n",
    "s = pd.Series(data)\n",
    "s[s<=0] = 0\n",
    "print(s)\n",
    "\n",
    "\n",
    "# OU (mais pas super explicite)\n",
    "data = np.array ([43 , -25 , 79  ,  37 , -22  , 34 ])\n",
    "s = pd.Series(data)\n",
    "s = (s.abs() + s) / 2 # same value if value > 0 else 0\n",
    "s = s.astype(int) # pour récupérer des int après la moyenne qui donne des float\n",
    "print(s)"
   ]
  },
  {
   "cell_type": "markdown",
   "id": "a4fcdc85",
   "metadata": {},
   "source": [
    "#### Exercice 13"
   ]
  },
  {
   "cell_type": "code",
   "execution_count": 129,
   "id": "f1ad30e7",
   "metadata": {},
   "outputs": [
    {
     "data": {
      "text/plain": [
       "{17: 'Louis', 21: 'Maya', 19: 'Yassmine', 13: 'Rosa', 27: 'Tomas'}"
      ]
     },
     "execution_count": 129,
     "metadata": {},
     "output_type": "execute_result"
    }
   ],
   "source": [
    "s = pd.Series([\"Louis\" , \"Maya\" , \"Yassmine\"  ,  \"Rosa\" , \"Tomas\"] , \n",
    "              index= [17 , 21 , 19 , 13  , 27 ])\n",
    "\n",
    "# \n",
    "s.to_dict()"
   ]
  },
  {
   "cell_type": "markdown",
   "id": "3030a54e",
   "metadata": {},
   "source": [
    "#### Exercice 14"
   ]
  },
  {
   "cell_type": "code",
   "execution_count": 130,
   "id": "bd1d49ad",
   "metadata": {},
   "outputs": [
    {
     "name": "stdout",
     "output_type": "stream",
     "text": [
      "17     Emma\n",
      "21    Alice\n",
      "19     Paul\n",
      "13    Tiago\n",
      "27    Julia\n",
      "28    Clara\n",
      "dtype: object\n",
      "17     Emma\n",
      "21    Alice\n",
      "19     Paul\n",
      "13    Tiago\n",
      "27    Julia\n",
      "28    Clara\n",
      "dtype: object\n"
     ]
    }
   ],
   "source": [
    "# OU\n",
    "s = pd.Series([\"Emma\" , \"Alice\" , \"Paul\"  ,  \"Tiago\" , \"Julia\"] , \n",
    "              index= [17 , 21 , 19 , 13  , 27 ])\n",
    "\n",
    "new_index = s.index.max() + 1\n",
    "s[new_index] = \"Clara\"\n",
    "print(s)\n",
    "\n",
    "# OU\n",
    "s = pd.Series([\"Emma\" , \"Alice\" , \"Paul\"  ,  \"Tiago\" , \"Julia\"] , \n",
    "              index= [17 , 21 , 19 , 13  , 27 ])\n",
    "s.loc[s.index[-1]+1] = \"Clara\"\n",
    "print(s)"
   ]
  },
  {
   "cell_type": "markdown",
   "id": "447d1263",
   "metadata": {},
   "source": [
    "#### Exercice 16"
   ]
  },
  {
   "cell_type": "code",
   "execution_count": 131,
   "id": "a2a5a2df",
   "metadata": {},
   "outputs": [],
   "source": [
    "serie = pd.Series(\n",
    "    ['a', 'b', 'c', 'd', 'e' , 'f'], \n",
    "    index=[11 , 3 , 17 , 23 , 5 , 22]\n",
    ")\n",
    "serie.index = serie.index + 2\n",
    "# OU serie.index = serie.index.map(lambda idx: idx+2)"
   ]
  },
  {
   "cell_type": "markdown",
   "id": "8c8ee53b",
   "metadata": {},
   "source": [
    "#### Exercice 17"
   ]
  },
  {
   "cell_type": "code",
   "execution_count": 132,
   "id": "cbb7a406",
   "metadata": {},
   "outputs": [
    {
     "data": {
      "text/plain": [
       "'d'"
      ]
     },
     "execution_count": 132,
     "metadata": {},
     "output_type": "execute_result"
    }
   ],
   "source": [
    "serie = pd.Series(\n",
    "    ['a', 'b', 'c', 'd', 'e' , 'f'], \n",
    "    index=[11 , 3 , 17 , 23 , 5 , 22]\n",
    ")\n",
    "serie.loc[serie.index.max()]"
   ]
  },
  {
   "cell_type": "markdown",
   "id": "c0c97140",
   "metadata": {},
   "source": [
    "#### Exercice 18"
   ]
  },
  {
   "cell_type": "code",
   "execution_count": 133,
   "id": "39aec4e7",
   "metadata": {},
   "outputs": [
    {
     "name": "stdout",
     "output_type": "stream",
     "text": [
      "d\n"
     ]
    }
   ],
   "source": [
    "serie = pd.Series(\n",
    "    ['a', 'b', 'c', 'd', 'e' , 'f', 'z', 'd'], \n",
    "    index=[11 , 3 , 17 , 23 , 5 , 22, 5, 3]\n",
    ")\n",
    "\n",
    "idx_max_value = None\n",
    "for idx_value in serie.index:\n",
    "    if (idx_max_value is None) or (idx_max_value < idx_value):\n",
    "        idx_max_value = idx_value\n",
    "        \n",
    "print(serie.loc[idx_max_value])"
   ]
  },
  {
   "cell_type": "code",
   "execution_count": 134,
   "id": "117da1f5",
   "metadata": {},
   "outputs": [
    {
     "name": "stdout",
     "output_type": "stream",
     "text": [
      "a\n",
      "b\n",
      "c\n",
      "d\n",
      "e\n",
      "f\n",
      "z\n",
      "d\n",
      "False\n",
      "True False\n"
     ]
    }
   ],
   "source": [
    "#############################\n",
    "#\n",
    "# ATTENTION !! \n",
    "#\n",
    "#############################\n",
    "\n",
    "\n",
    "serie = pd.Series(\n",
    "    ['a', 'b', 'c', 'd', 'e' , 'f', 'z', 'd'], \n",
    "    index=[11 , 3 , 17 , 23 , 5 , 22, 5, 3]\n",
    ")\n",
    "\n",
    "# On lève les valeurs de la série\n",
    "for x in serie:\n",
    "    print(x)\n",
    "\n",
    "# Il se base en revanche sur les valeurs des index \n",
    "# pour les tests\n",
    "print(\"a\" in serie)\n",
    "\n",
    "# comme pour les dictionnaires\n",
    "print('a' in {'a': 1}, 'a' in {1: 'a'})"
   ]
  },
  {
   "cell_type": "markdown",
   "id": "1111da93",
   "metadata": {},
   "source": [
    "#### Exercice 19"
   ]
  },
  {
   "cell_type": "code",
   "execution_count": 135,
   "id": "68316cd0",
   "metadata": {},
   "outputs": [
    {
     "data": {
      "text/plain": [
       "new_index\n",
       "10    a\n",
       "13    y\n",
       "14    c\n",
       "17    t\n",
       "18    e\n",
       "21    v\n",
       "Name: value, dtype: object"
      ]
     },
     "execution_count": 135,
     "metadata": {},
     "output_type": "execute_result"
    }
   ],
   "source": [
    "serie1 = pd.Series(['a', 'b', 'c', 'd', 'e' , 'f'] , index=[10 , 12 , 14 , 16 , 18 , 20])\n",
    "serie2 = pd.Series(['x', 'y', 'z', 't', 'u' , 'v'] , index=[11 , 13 , 15 , 17 , 19 , 21])\n",
    "\n",
    "\n",
    "df = pd.DataFrame({\n",
    "    \"serie1\": serie1.tolist(),\n",
    "    \"idx1\": serie1.index,\n",
    "    \"serie2\": serie2.tolist(),\n",
    "    \"idx2\": serie2.index,\n",
    "})\n",
    "\n",
    "\n",
    "df[\"is_even\"] = list(map(lambda x: x%2==0, list(range(0, len(df)))))\n",
    "\n",
    "def extract_serie_value(row):\n",
    "    if row.is_even:\n",
    "        return row[\"serie1\"]\n",
    "    else:\n",
    "        return row[\"serie2\"]\n",
    "\n",
    "df[\"value\"] = df.apply(extract_serie_value, axis=1)\n",
    "\n",
    "def extract_index_value(row):\n",
    "    if row.is_even:\n",
    "        return row[\"idx1\"]\n",
    "    else:\n",
    "        return row[\"idx2\"]\n",
    "\n",
    "    \n",
    "df[\"new_index\"] = df.apply(extract_index_value, axis=1)\n",
    "\n",
    "df.index = df[\"new_index\"]\n",
    "df[\"value\"]"
   ]
  },
  {
   "cell_type": "code",
   "execution_count": 136,
   "id": "02c22fef",
   "metadata": {},
   "outputs": [
    {
     "name": "stdout",
     "output_type": "stream",
     "text": [
      "a\n",
      "y\n",
      "c\n",
      "t\n",
      "e\n",
      "v\n"
     ]
    },
    {
     "data": {
      "text/plain": [
       "10    a\n",
       "13    y\n",
       "14    c\n",
       "17    t\n",
       "18    e\n",
       "21    v\n",
       "dtype: object"
      ]
     },
     "execution_count": 136,
     "metadata": {},
     "output_type": "execute_result"
    }
   ],
   "source": [
    "# On pourrait utiliser .zip()\n",
    "values = []\n",
    "indexes = []\n",
    "for i, (v1, idx1,  v2, idx2) in enumerate(zip(serie1, serie1.index, serie2, serie2.index)):\n",
    "    if i % 2 == 0:\n",
    "        print(v1)\n",
    "        values.append(v1)\n",
    "        indexes.append(idx1)\n",
    "    else:\n",
    "        print(v2)\n",
    "        values.append(v2)\n",
    "        indexes.append(idx2)\n",
    "\n",
    "pd.Series(values, index=indexes)"
   ]
  },
  {
   "cell_type": "markdown",
   "id": "9e2b0b09",
   "metadata": {},
   "source": [
    "#### Exercice 20"
   ]
  },
  {
   "cell_type": "code",
   "execution_count": 139,
   "id": "2a792600",
   "metadata": {},
   "outputs": [
    {
     "data": {
      "text/plain": [
       "{10: 'a', 12: 'b', 14: 'c', 16: 'd', 18: 'e', 20: 'f'}"
      ]
     },
     "execution_count": 139,
     "metadata": {},
     "output_type": "execute_result"
    }
   ],
   "source": [
    "serie = pd.Series(\n",
    "    ['a', 'b', 'c', 'd', 'e' , 'f'] , \n",
    "    index=[10 , 12 , 14 , 16 , 18 , 20]\n",
    ")\n",
    "serie.to_dict()"
   ]
  },
  {
   "cell_type": "markdown",
   "id": "e01efa00",
   "metadata": {},
   "source": [
    "#### Exercice 21"
   ]
  },
  {
   "cell_type": "code",
   "execution_count": 140,
   "id": "44481733",
   "metadata": {},
   "outputs": [
    {
     "data": {
      "text/plain": [
       "['a', 'b', 'c', 'd', 'e', 'f']"
      ]
     },
     "execution_count": 140,
     "metadata": {},
     "output_type": "execute_result"
    }
   ],
   "source": [
    "serie = pd.Series(\n",
    "    ['a', 'b', 'c', 'd', 'e' , 'f'] , \n",
    "    index=[10 , 12 , 14 , 16 , 18 , 20]\n",
    ")\n",
    "serie.tolist()"
   ]
  },
  {
   "cell_type": "markdown",
   "id": "5505ca86",
   "metadata": {},
   "source": [
    "#### Exercice 22"
   ]
  },
  {
   "cell_type": "code",
   "execution_count": 142,
   "id": "18ad8ae2",
   "metadata": {},
   "outputs": [
    {
     "data": {
      "text/plain": [
       "['a', 'b', 'c', 'd', 'e', 'f']"
      ]
     },
     "execution_count": 142,
     "metadata": {},
     "output_type": "execute_result"
    }
   ],
   "source": [
    "serie = pd.Series(\n",
    "    ['a', 'b', 'c', 'd', 'e' , 'f'] , \n",
    "    index=[10 , 12 , 14 , 16 , 18 , 20]\n",
    ")\n",
    "[\n",
    "    serie.loc[i] for i in serie.index\n",
    "]"
   ]
  },
  {
   "cell_type": "markdown",
   "id": "3e8e1d9e",
   "metadata": {},
   "source": [
    "#### Exercice 23"
   ]
  },
  {
   "cell_type": "code",
   "execution_count": 151,
   "id": "0b2e81d0",
   "metadata": {},
   "outputs": [
    {
     "data": {
      "text/plain": [
       "16        Kotlin\n",
       "12          Java\n",
       "14    Javascript\n",
       "10        Python\n",
       "dtype: object"
      ]
     },
     "execution_count": 151,
     "metadata": {},
     "output_type": "execute_result"
    }
   ],
   "source": [
    "# Question 1\n",
    "\n",
    "def swap(l):\n",
    "    \"\"\"Swap first element with last\"\"\"\n",
    "    if len(l) <= 1:\n",
    "        return l\n",
    "    # Dernier élément - Puis ceux du milieu - Puis le premier\n",
    "    return [l[-1]] + l[1:-1] + [l[0]]\n",
    "\n",
    "\n",
    "#print(swap([1, 2]))\n",
    "#print(swap([1]))\n",
    "\n",
    "#print(swap([1, 2, 3, 4, 5]))\n",
    "#print(swap([]))\n",
    "\n",
    "# Question 2 \n",
    "serie = pd.Series(\n",
    "    ['Python', 'Java', 'Javascript', 'Kotlin'] , \n",
    "    index=[10 , 12 , 14 , 16 ]\n",
    ")\n",
    "\n",
    "values = serie.tolist()\n",
    "indexes = serie.index.tolist()\n",
    "\n",
    "swapped_serie = pd.Series(\n",
    "    swap(values),\n",
    "    index=swap(indexes)\n",
    ")\n",
    "swapped_serie"
   ]
  },
  {
   "cell_type": "markdown",
   "id": "1ed8d895",
   "metadata": {},
   "source": [
    "#### Exercice 24"
   ]
  },
  {
   "cell_type": "code",
   "execution_count": null,
   "id": "11ed34a3",
   "metadata": {},
   "outputs": [
    {
     "name": "stdout",
     "output_type": "stream",
     "text": [
      "failed\n",
      "failed\n",
      "failed\n",
      "failed\n",
      "failed\n"
     ]
    }
   ],
   "source": [
    "import pandas as pd\n",
    "\n",
    "integers = []\n",
    "value = None\n",
    "\n",
    "for _ in range(5):\n",
    "    while value is None:\n",
    "        try:\n",
    "            input_ = input()\n",
    "            assert input_.isdigit()\n",
    "            # Conversion without casting to int\n",
    "            # as we checked we had only digits\n",
    "            value = int(input_)    \n",
    "        except:\n",
    "            print(\"failed\")   \n",
    "            \n",
    "    integers.append(value)\n",
    "    value = None\n",
    "    \n",
    "pd.Series(integers)"
   ]
  },
  {
   "cell_type": "markdown",
   "id": "6511c4f0",
   "metadata": {},
   "source": [
    "#### Exercice 25\n",
    "- NE PAS UTILISER `.count()` POUR COMPTER DES LIGNES (l'utiliser pour compter les valeurs non nulles)\n",
    "- PAREIL AVEC `.value_counts()`"
   ]
  },
  {
   "cell_type": "code",
   "execution_count": 9,
   "id": "7d771657",
   "metadata": {},
   "outputs": [
    {
     "name": "stdout",
     "output_type": "stream",
     "text": [
      "6\n",
      "5\n",
      "7\n"
     ]
    }
   ],
   "source": [
    "serie = pd.Series(['a', 'b', 'c', 'd' , 'e' , 'f'] , \n",
    "                      index=[10 , 12 , 14 , 16 , 18 , 20])\n",
    "\n",
    "print(serie.count())\n",
    "\n",
    "serie = pd.Series([1, 2, 3, 4, 5, np.nan, None] , \n",
    "                      index=[10 , 12 , 14 , 16 , 18 , 20, 21])\n",
    "\n",
    "print(serie.count())\n",
    "\n",
    "\n",
    "############################################################\n",
    "print(serie.shape[0])\n",
    "\n",
    "# pd.DataFrame([list(range(2)), list(range(2)), list(range(2))]).shape\n",
    "# -> (3, 2)"
   ]
  },
  {
   "cell_type": "markdown",
   "id": "2f1e661d",
   "metadata": {},
   "source": [
    "#### Exerccie 26"
   ]
  },
  {
   "cell_type": "code",
   "execution_count": 16,
   "id": "5c6567b0",
   "metadata": {},
   "outputs": [
    {
     "data": {
      "text/plain": [
       "12"
      ]
     },
     "execution_count": 16,
     "metadata": {},
     "output_type": "execute_result"
    }
   ],
   "source": [
    "serie = pd.Series([3 , 2 , 1 , 4 , 2])\n",
    "serie.sum()"
   ]
  },
  {
   "cell_type": "markdown",
   "id": "857bebb7",
   "metadata": {},
   "source": [
    "#### Exercice 27"
   ]
  },
  {
   "cell_type": "code",
   "execution_count": 25,
   "id": "3253f690",
   "metadata": {},
   "outputs": [
    {
     "name": "stdout",
     "output_type": "stream",
     "text": [
      "0    3.0\n",
      "1    2.0\n",
      "2    1.0\n",
      "3    4.0\n",
      "4    2.0\n",
      "5    2.4\n",
      "dtype: float64\n"
     ]
    }
   ],
   "source": [
    "serie = pd.Series([3 , 2 , 1 , 4 , 2])\n",
    "# Ensure that we'll use a free index\n",
    "serie[serie.index.max()+1] = serie.mean()\n",
    "print(serie)"
   ]
  },
  {
   "cell_type": "markdown",
   "id": "1cded07f",
   "metadata": {},
   "source": [
    "#### Exercice 28"
   ]
  },
  {
   "cell_type": "code",
   "execution_count": 32,
   "id": "866e1ea5",
   "metadata": {},
   "outputs": [
    {
     "name": "stdout",
     "output_type": "stream",
     "text": [
      "2.0\n",
      "0    3.0\n",
      "1    2.0\n",
      "2    1.0\n",
      "3    4.0\n",
      "4    2.0\n",
      "5    0.0\n",
      "6    NaN\n",
      "7    NaN\n",
      "8    2.0\n",
      "dtype: float64\n"
     ]
    }
   ],
   "source": [
    "serie = pd.Series([3 , 2 , 1 , 4 , 2 , 0, np.nan, np.nan])\n",
    "# On veut calculer la moyenne en étant robuste aux valeurs manquantes\n",
    "\n",
    "num = serie.sum()\n",
    "denom = serie.count()\n",
    "\n",
    "mean = num / denom \n",
    "print(mean)\n",
    "\n",
    "serie[serie.index.max()+1] = mean\n",
    "print(serie)"
   ]
  },
  {
   "cell_type": "code",
   "execution_count": 29,
   "id": "b95ff8ce",
   "metadata": {},
   "outputs": [
    {
     "name": "stdout",
     "output_type": "stream",
     "text": [
      "nan\n",
      "2.0\n",
      "nan\n",
      "1.0\n",
      "nan\n",
      "1.0\n"
     ]
    }
   ],
   "source": [
    "# Understanding np.nan \n",
    "# (sous le capot, pandas utilise les methodes np.nan<method>)\n",
    "\n",
    "print(np.sum([np.nan, 1, 1]))\n",
    "print(np.nansum([np.nan, 1, 1]))\n",
    "\n",
    "\n",
    "print(np.median([np.nan, 1, 1]))\n",
    "print(np.nanmedian([np.nan, 1, 1]))\n",
    "\n",
    "\n",
    "print(np.max([np.nan, 1, 1]))\n",
    "print(np.nanmax([np.nan, 1, 1]))"
   ]
  },
  {
   "cell_type": "markdown",
   "id": "0e0367e1",
   "metadata": {},
   "source": [
    "#### Exercice 29"
   ]
  },
  {
   "cell_type": "code",
   "execution_count": 65,
   "id": "3f55229f",
   "metadata": {},
   "outputs": [
    {
     "name": "stdout",
     "output_type": "stream",
     "text": [
      "10        Python\n",
      "12          Java\n",
      "14    Javascript\n",
      "16        Kotlin\n",
      "dtype: object\n",
      "10        Python\n",
      "12          Java\n",
      "14    Javascript\n",
      "16        Kotlin\n",
      "dtype: object\n"
     ]
    },
    {
     "data": {
      "text/plain": [
       "0\n",
       "Java                Java\n",
       "Javascript    Javascript\n",
       "Kotlin            Kotlin\n",
       "Python            Python\n",
       "Name: 1, dtype: object"
      ]
     },
     "execution_count": 65,
     "metadata": {},
     "output_type": "execute_result"
    }
   ],
   "source": [
    "#################################\n",
    "# Methode 1 (avec .duplicated())\n",
    "#################################\n",
    "\n",
    "serie = pd.Series(['Python', 'Java', 'Javascript', 'Kotlin' , 'Python'] , \n",
    "                  index=[10 , 12 , 14 , 16 , 18])\n",
    "\n",
    "\n",
    "# Renvoie un masque de la longueur de la série\n",
    "# qui vaut True si la valeur est rencontrée plus d'une fois\n",
    "# print(serie.duplicated())\n",
    "\n",
    "# Donc pour avoir l'opposé\n",
    "# print(~serie.duplicated())\n",
    "\n",
    "# Donc pour sélectionner seulement celles qui ne sont pas des doublons\n",
    "print(serie[~serie.duplicated()])\n",
    "\n",
    "\n",
    "#################################\n",
    "# Methode 2 avec drop_duplicates\n",
    "#################################\n",
    "\n",
    "serie = pd.Series(['Python', 'Java', 'Javascript', 'Kotlin' , 'Python'] , \n",
    "                  index=[10 , 12 , 14 , 16 , 18])\n",
    "\n",
    "\n",
    "# Donc pour sélectionner seulement celles qui ne sont pas des doublons\n",
    "print(serie.drop_duplicates())\n",
    "\n",
    "\n",
    "#####################################\n",
    "# Methode 3 : en comptant les valeurs\n",
    "#####################################\n",
    "\n",
    "# On utilise value_counts\n",
    "# On lève les index\n",
    "# On sélectionne sur un seul index associé à la même valeur\n",
    "\n",
    "\n",
    "#####################################\n",
    "# Methode 4 : groupby\n",
    "#####################################\n",
    "\n",
    "# Serie -> Frame\n",
    "df = serie.to_frame()\n",
    "# Deux fois la même\n",
    "df[1] = df[0]\n",
    "# On groupe sur 0 (l'une) \n",
    "# On sélectionne sur 1, en prenant la première valeur avec la lambda function\n",
    "df.groupby(0).agg(lambda x: list(x)[0])[1]"
   ]
  },
  {
   "cell_type": "markdown",
   "id": "8175ab78",
   "metadata": {},
   "source": [
    "#### Exercice 30"
   ]
  },
  {
   "cell_type": "code",
   "execution_count": 83,
   "id": "ddfce2b5",
   "metadata": {},
   "outputs": [
    {
     "name": "stdout",
     "output_type": "stream",
     "text": [
      "accessor\n",
      " 10    P\n",
      "12    J\n",
      "14    J\n",
      "16    K\n",
      "18    J\n",
      "dtype: object\n",
      "\n",
      "\n",
      "Without accessor\n",
      " 10    Python\n",
      "dtype: object\n"
     ]
    }
   ],
   "source": [
    "serie = pd.Series(['Python', 'Java', 'Javascript', 'Kotlin' , 'JSP'] , \n",
    "                  index=[10 , 12 , 14 , 16 , 18])\n",
    "\n",
    "\n",
    "# L'accessor permet d'appliquer les méthodes \n",
    "# directement aux valeurs de la série et pas à la série elle même\n",
    "print(\"accessor\\n\", serie.str[:1])\n",
    "print(\"\\n\")\n",
    "print(\"Without accessor\\n\", serie[:1])\n",
    "\n",
    "\n",
    "\n",
    "# On prend la première lettre et vérifie que c'est un J\n",
    "serie = serie[serie.str.startswith(\"J\")]\n",
    "\n",
    "# OU : \n",
    "# serie = serie[serie.str[:1] == \"J\"]"
   ]
  },
  {
   "cell_type": "code",
   "execution_count": null,
   "id": "d55709ce",
   "metadata": {},
   "outputs": [],
   "source": []
  }
 ],
 "metadata": {
  "kernelspec": {
   "display_name": "Python 3 (ipykernel)",
   "language": "python",
   "name": "python3"
  },
  "language_info": {
   "codemirror_mode": {
    "name": "ipython",
    "version": 3
   },
   "file_extension": ".py",
   "mimetype": "text/x-python",
   "name": "python",
   "nbconvert_exporter": "python",
   "pygments_lexer": "ipython3",
   "version": "3.9.7"
  }
 },
 "nbformat": 4,
 "nbformat_minor": 5
}
